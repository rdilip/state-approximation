{
 "cells": [
  {
   "cell_type": "markdown",
   "metadata": {},
   "source": [
    "This is apparently harder than I thought...so let's do it separately"
   ]
  },
  {
   "cell_type": "code",
   "execution_count": 1,
   "metadata": {},
   "outputs": [],
   "source": [
    "%load_ext autoreload\n",
    "%autoreload 2"
   ]
  },
  {
   "cell_type": "code",
   "execution_count": 121,
   "metadata": {},
   "outputs": [],
   "source": [
    "import numpy as np\n",
    "from scipy.stats import unitary_group\n",
    "import matplotlib.pyplot as plt\n",
    "\n",
    "from misc import mps_overlap\n",
    "from state_approximation import mps2mpo, mpo2mps, diagonal_expansion, multiple_diagonal_expansions,\\\n",
    "    contract_diagonal_expansion, contract_series_diagonal_expansions\n",
    "from disentanglers import disentangle_S2, renyi_entropy\n",
    "from tebd import tebd\n",
    "from state_approximation import entanglement_entropy"
   ]
  },
  {
   "cell_type": "code",
   "execution_count": 6,
   "metadata": {},
   "outputs": [
    {
     "data": {
      "text/plain": [
       "True"
      ]
     },
     "execution_count": 6,
     "metadata": {},
     "output_type": "execute_result"
    }
   ],
   "source": [
    "np.random.seed(0)\n",
    "\n",
    "A0 = np.random.rand(2,2,2,2)\n",
    "A1 = np.random.rand(2,2,2,2)\n",
    "Lambda0 = np.random.rand(2,2,2,2)\n",
    "Lambda1 = np.random.rand(2,2,2,2)\n",
    "\n",
    "def contract(A0, A1, Lambda0, Lambda1):\n",
    "    A = np.tensordot(A0, A1, [2,3])\n",
    "    Lambda = np.tensordot(Lambda0, Lambda1, [2,3])\n",
    "    combined = np.tensordot(A, Lambda, [[1,4],[0,3]])\n",
    "    return combined\n",
    "\n",
    "def contract_method_2(A0, A1, Lambda0, Lambda1):\n",
    "    A_Lambda0 = np.tensordot(A0, Lambda0, [1,0])\n",
    "    A_Lambda1 = np.tensordot(A1, Lambda1, [1,0])\n",
    "    combined = np.tensordot(A_Lambda0, A_Lambda1, [[1,4],[2,5]])\n",
    "    combined = np.transpose(combined, [0,1,4,5,2,3,6,7])\n",
    "    return combined\n",
    "\n",
    "out1 = contract(A0, A1, Lambda0, Lambda1)\n",
    "out2 = contract_method_2(A0, A1, Lambda0, Lambda1)\n",
    "np.allclose(out1, out2)"
   ]
  },
  {
   "cell_type": "code",
   "execution_count": 28,
   "metadata": {},
   "outputs": [
    {
     "name": "stdout",
     "output_type": "stream",
     "text": [
      "True\n",
      "True\n"
     ]
    }
   ],
   "source": [
    "U = unitary_group.rvs(4).reshape([2]*4)\n",
    "A = np.tensordot(A0, A1, [2,3])\n",
    "A = np.tensordot(A, U.conj(), [[1,4],[2,3]])\n",
    "Lambda = np.tensordot(Lambda0, Lambda1, [2,3])\n",
    "Lambda = np.tensordot(Lambda, U, [[0,3],[2,3]])\n",
    "combined = np.tensordot(A, Lambda, [[4,5],[4,5]])\n",
    "print(np.allclose(combined, contract(A0, A1, Lambda0, Lambda1)))\n",
    "\n",
    "A0_new, A1_new = split_tensor_qr(A, [0,4,1], [2,5,3])\n",
    "A0_new = A0_new.transpose([0,1,3,2])\n",
    "A1_new = A1_new.transpose([1,2,3,0])\n",
    "\n",
    "Lambda0_new, Lambda1_new = split_tensor_qr(Lambda, [4,0,1], [5,2,3])\n",
    "Lambda0_new = Lambda0_new.transpose([0,1,3,2])\n",
    "Lambda1_new = Lambda1_new.transpose([1,2,3,0])\n",
    "\n",
    "out1 = contract(A0, A1, Lambda0, Lambda1)\n",
    "out2 = contract(A0_new, A1_new, Lambda0_new, Lambda1_new)\n",
    "print(np.allclose(out1, out2))\n"
   ]
  },
  {
   "cell_type": "markdown",
   "metadata": {},
   "source": [
    "#### Applying to full A and Lambda "
   ]
  },
  {
   "cell_type": "code",
   "execution_count": 129,
   "metadata": {},
   "outputs": [
    {
     "name": "stdout",
     "output_type": "stream",
     "text": [
      "0.24232390144270413\n",
      "0.34111498032970944\n",
      "0.38586323502661857\n",
      "0.3093630789468467\n",
      "0.3950358118722561\n",
      "0.42738102152275165\n",
      "0.42573223659731635\n",
      "0.39150901977269864\n",
      "0.44124686510901706\n",
      "0.4164371424489244\n",
      "0.44496676454218737\n"
     ]
    }
   ],
   "source": [
    "tebd_state, _, _ = tebd(10, 1.5, 0.1)\n",
    "Psi = mps2mpo(tebd_state.copy())\n",
    "Lambda = Psi.copy()\n",
    "As, Lambda, Ss, Lambdas = multiple_diagonal_expansions(Psi,1)\n",
    "out = contract_series_diagonal_expansions(As, Lambda)\n",
    "assert np.isclose(mps_overlap(Psi, out), 1.0)\n",
    "\n",
    "A0 = As[0]\n",
    "L = len(A0)\n",
    "\n",
    "def split_tensor_svd(node, legs_left, legs_right):\n",
    "    \"\"\" \n",
    "    Splits a tensor A using a QR decomposition. \n",
    "    Parameters\n",
    "    ----------\n",
    "    A : np.Array\n",
    "        Tensor to be split\n",
    "    legs_left : list of int\n",
    "        The legs on the left.\n",
    "    legts_right : legs on the right of the qr decomposition\n",
    "    Returns\n",
    "    -------\n",
    "    q, r : np.Array\n",
    "        Tensors with shapes (*legs_left, -1) and (-1, *legs_right).\n",
    "        The leg order is given by legs_left and legs_right\n",
    "    \"\"\"\n",
    "    perm = np.concatenate([legs_left, legs_right])\n",
    "    shape_left = [node.shape[i] for i in legs_left]\n",
    "    shape_right = [node.shape[i] for i in legs_right]\n",
    "    node_shifted = node.copy().transpose(perm)\n",
    "    node_shifted = node_shifted.reshape(np.prod(shape_left), np.prod(shape_right))\n",
    "    \n",
    "    \n",
    "    u, s, v = np.linalg.svd(node_shifted, full_matrices=False)\n",
    "    s = s[s > 1.e-10]\n",
    "    chi_max = len(s)\n",
    "    u = u[:,:chi_max]\n",
    "    v = v[:chi_max,:]\n",
    "    \n",
    "    u = u.reshape(*shape_left, -1)\n",
    "    v = (np.diag(s) @ v).reshape(-1, *shape_right)\n",
    "    return u, v\n",
    "    \n",
    "\n",
    "def get_theta(Lambda, i):\n",
    "    \"\"\" \n",
    "    Gets a TEBD style wavefunction on Lambda at index i, using\n",
    "    the site at index i and the site immediately below it.\n",
    "    Assumes a canonical form. \n",
    "    Parameters\n",
    "    ----------\n",
    "    Lambda : np.Array\n",
    "        List of tensors, starting from bottom to top.\n",
    "    i : int\n",
    "        The index of the tensor to construct the tebd style\n",
    "        wavefunction from\n",
    "    \"\"\"\n",
    "    B0, B1 = Lambda[i], Lambda[i-1]\n",
    "    contracted = np.tensordot(B0, B1, [2,3])\n",
    "    p1, p2, chiN, p3, p4, chiS = contracted.shape\n",
    "    theta = contracted.reshape(p1, p2*chiN, p3, p4*chiS).transpose([1,0,2,3])\n",
    "    return theta\n",
    "\n",
    "def disentangle_last_tensor(A0, Lambda, direction):\n",
    "    \"\"\" \n",
    "    The last tensor isn't translation invariant, so this function\n",
    "    takes care of that. Lambda0 and Lambda1 are the two site tensors\n",
    "    from top to bottom.\n",
    "    Parameters\n",
    "    ----------\n",
    "    A0 : list of np.Array\n",
    "        Left column wavefunction\n",
    "    Lambda : list of np.Array\n",
    "        Right column wavefunction\n",
    "    direction : str\n",
    "        Either 'up' or 'down' depending on direction.\n",
    "    \"\"\"\n",
    "    assert direction in ['up', 'down']\n",
    "    L = len(Lambda)\n",
    "    \n",
    "    theta = get_theta(Lambda, L-1)\n",
    "    theta, U = disentangle_S2(theta)\n",
    "    Lambda_two_site = np.tensordot(Lambda[L-1], Lambda[L-2], [2,3])\n",
    "    Lambda_two_site = np.tensordot(Lambda_two_site, U.conj(), [[0,3],[2,3]])\n",
    "    \n",
    "    if direction == 'down':\n",
    "        legs_left, legs_right = [4,0,1], [5,2,3]\n",
    "    else:\n",
    "        legs_right, legs_left = [4,0,1], [5,2,3]        \n",
    "    Lambda0_new, Lambda1_new = split_tensor_svd(Lambda_two_site, legs_left, legs_right)\n",
    "    # TODO maybe make an RQ method so this isn't necessary\n",
    "    if direction == 'down':\n",
    "        Lambda0_new = Lambda0_new.transpose([0,1,3,2])\n",
    "        Lambda1_new = Lambda1_new.transpose([1,2,3,0])\n",
    "        Lambda[L-1] = Lambda0_new\n",
    "        Lambda[L-2] = Lambda1_new\n",
    "    else:\n",
    "        Lambda1_new = Lambda1_new.transpose([1,2,0,3])\n",
    "        Lambda[L-2] = Lambda0_new\n",
    "        Lambda[L-1] = Lambda1_new\n",
    "        \n",
    "    A0[L-1] = np.tensordot(A0[L-1], U, [[1,3],[2,3]]).transpose([0,2,1,3])\n",
    "    return A0, Lambda\n",
    "\n",
    "\n",
    "\n",
    "def sweep_down_and_up(A0, Lambda):\n",
    "    \"\"\" Sweeps down and up A0 and Lambda, disentangling at each step. \"\"\"\n",
    "    # Down sweep \n",
    "    for i in range(L-2, 1, -1):\n",
    "        theta = get_theta(Lambda, i)\n",
    "        theta, U = disentangle_S2(theta)\n",
    "\n",
    "        A = np.tensordot(A0[i+1], A0[i], [2,3])\n",
    "        A = np.tensordot(A, U.conj(), [[1,4],[2,3]])\n",
    "\n",
    "        Lambda_contracted = np.tensordot(Lambda[i], Lambda[i-1], [2,3])\n",
    "        Lambda_contracted = np.tensordot(Lambda_contracted, U, [[0,3],[2,3]])\n",
    "\n",
    "        A0_new, A1_new = split_tensor_svd(A, [0,4,1], [2,5,3])\n",
    "        A0_new = A0_new.transpose([0,1,3,2])\n",
    "        A1_new = A1_new.transpose([1,2,3,0])\n",
    "\n",
    "        Lambda0_new, Lambda1_new = split_tensor_svd(Lambda_contracted, [4,0,1], [5,2,3])\n",
    "        Lambda0_new = Lambda0_new.transpose([0,1,3,2])\n",
    "        Lambda1_new = Lambda1_new.transpose([1,2,3,0])\n",
    "\n",
    "        A0[i+1] = A0_new\n",
    "        A0[i] = A1_new\n",
    "\n",
    "        Lambda[i] = Lambda0_new\n",
    "        Lambda[i-1] = Lambda1_new\n",
    "\n",
    "    A0, Lambda = disentangle_last_tensor(A0, Lambda, 'down')\n",
    "    \n",
    "    for i in range(0, L-2):\n",
    "        theta = get_theta(Lambda, i+1)\n",
    "        theta, U = disentangle_S2(theta)\n",
    "\n",
    "\n",
    "        A = np.tensordot(A0[i+2], A0[i+1], [2,3])\n",
    "        A = np.tensordot(A, U.conj(), [[1,4],[2,3]])\n",
    "\n",
    "        Lambda_contracted = np.tensordot(Lambda[i+1], Lambda[i], [2,3])\n",
    "        Lambda_contracted = np.tensordot(Lambda_contracted, U, [[0,3],[2,3]])\n",
    "\n",
    "        A0_new, A1_new = split_tensor_svd(A, [0,4,1], [2,5,3])\n",
    "        A0_new = A0_new.transpose([0,1,3,2])\n",
    "        A1_new = A1_new.transpose([1,2,3,0])\n",
    "\n",
    "        Lambda0_new, Lambda1_new = split_tensor_svd(Lambda_contracted, [4,0,1], [5,2,3])\n",
    "        Lambda0_new = Lambda0_new.transpose([0,1,3,2])\n",
    "        Lambda1_new = Lambda1_new.transpose([1,2,3,0])\n",
    "\n",
    "        A0[i+2] = A0_new\n",
    "        A0[i+1] = A1_new\n",
    "\n",
    "        Lambda[i+1] = Lambda0_new\n",
    "        Lambda[i] = Lambda1_new\n",
    "\n",
    "    A0, Lambda = disentangle_last_tensor(A0, Lambda, 'up')\n",
    "    return(A0, Lambda)\n",
    "import pickle\n",
    "print(entanglement_entropy(Lambda))\n",
    "with open(\"single_split_state.pkl\", \"wb+\") as f:\n",
    "    pickle.dump(Lambda, f)\n",
    "for i in range(10):\n",
    "    A0, Lambda = sweep_down_and_up(A0, Lambda)\n",
    "    print(entanglement_entropy(Lambda))\n",
    "    contracted = contract_diagonal_expansion(A0, Lambda)\n",
    "    assert np.isclose(mps_overlap(Psi, contracted), 1.0)"
   ]
  },
  {
   "cell_type": "code",
   "execution_count": 127,
   "metadata": {},
   "outputs": [],
   "source": [
    "### That's not working let's try again"
   ]
  },
  {
   "cell_type": "code",
   "execution_count": 153,
   "metadata": {},
   "outputs": [],
   "source": [
    "def _sweep_lambda(Lambda):\n",
    "    for i in range(L-1, 1, -1):\n",
    "        theta = get_theta(Lambda, i)\n",
    "        p1, p2, _, chiN = Lambda[i].shape\n",
    "        p3, p4, chiS, _ = Lambda[i-1].shape\n",
    "        theta, U = disentangle_S2(theta, max_iter=2000)\n",
    "        \n",
    "        Lambda_contracted = theta.reshape(p2,chiN,p1,p3,p4,chiS).transpose([2,0,1,3,4,5])\n",
    "        \n",
    "        #Lambda_contracted = np.tensordot(Lambda[i], Lambda[i-1], [2,3])\n",
    "        #Lambda_contracted = np.tensordot(Lambda_contracted, U, [[0,3],[2,3]])\n",
    "\n",
    "\n",
    "        #Lambda0_new, Lambda1_new = split_tensor_svd(Lambda_contracted, [4,0,1], [5,2,3])\n",
    "        Lambda0_new, Lambda1_new = split_tensor_svd(Lambda_contracted, [0,1,2], [3,4,5])\n",
    "        Lambda0_new = Lambda0_new.transpose([0,1,3,2])\n",
    "        Lambda1_new = Lambda1_new.transpose([1,2,3,0])\n",
    "\n",
    "        Lambda[i] = Lambda0_new\n",
    "        Lambda[i-1] = Lambda1_new\n",
    "    return Lambda\n",
    "\n",
    "def _sweep_disentangle(Psi):\n",
    "    L = len(Psi)\n",
    "    for i in range(L-1):\n",
    "        theta = np.tensordot(Psi[i], Psi[i+1], [2,1]).transpose([1,0,2,3])\n",
    "        theta, U = disentangle_S2(theta, max_iter=200, eps=1.e-16)\n",
    "        chiL, d1, d2, chiR = theta.shape\n",
    "        q, r = np.linalg.qr(theta.reshape(chiL*d1, chiR*d2))\n",
    "        Psi[i] = q.reshape((chiL, d1, -1)).transpose([1,0,2])\n",
    "        Psi[i+1] = r.reshape((-1, d2, chiR)).transpose([1,0,2])\n",
    "    return Psi\n",
    "\n",
    "def sweep_disentangle(Psi):\n",
    "    Psi = [psi.transpose([0,2,1]) for psi in Psi[::-1]]\n",
    "    Psi = _sweep_disentangle(Psi)\n",
    "    print(entanglement_entropy(Psi))\n",
    "    Psi = [psi.transpose([0,2,1]) for psi in Psi[::-1]]\n",
    "    Psi = _sweep_disentangle(Psi)\n",
    "    print(entanglement_entropy(Psi))\n",
    "    return Psi"
   ]
  },
  {
   "cell_type": "code",
   "execution_count": null,
   "metadata": {},
   "outputs": [],
   "source": []
  },
  {
   "cell_type": "code",
   "execution_count": 155,
   "metadata": {},
   "outputs": [
    {
     "name": "stdout",
     "output_type": "stream",
     "text": [
      "0.24232390144270416\n"
     ]
    }
   ],
   "source": [
    "with open(\"single_split_state.pkl\", \"rb\") as f:\n",
    "    Lambda = pickle.load(f)\n",
    "print(entanglement_entropy(Lambda))\n",
    "Lambda = mpo2mps(Lambda)"
   ]
  },
  {
   "cell_type": "code",
   "execution_count": 156,
   "metadata": {},
   "outputs": [
    {
     "name": "stdout",
     "output_type": "stream",
     "text": [
      "0.32287300381764455\n",
      "0.05243264409281114\n",
      "0.041434173905196846\n",
      "0.03706160184633628\n",
      "0.03205130388139003\n",
      "0.03000044019605892\n",
      "0.025972733682275796\n",
      "0.025344748944096853\n",
      "0.023297889827829446\n",
      "0.022431134981336295\n",
      "0.021153424032413902\n",
      "0.02009178986202271\n",
      "0.019108954318380195\n",
      "0.018306750362751714\n",
      "0.017067484444773608\n",
      "0.01614467786339466\n",
      "0.015209733966150775\n",
      "0.014660741635300685\n",
      "0.014003556373932056\n",
      "0.013121710691792767\n"
     ]
    }
   ],
   "source": [
    "for i in range(10):\n",
    "    Lambda = sweep_disentangle(Lambda)"
   ]
  },
  {
   "cell_type": "code",
   "execution_count": 146,
   "metadata": {},
   "outputs": [
    {
     "data": {
      "text/plain": [
       "0.3228730038176443"
      ]
     },
     "execution_count": 146,
     "metadata": {},
     "output_type": "execute_result"
    }
   ],
   "source": [
    "entanglement_entropy(Lambda)"
   ]
  },
  {
   "cell_type": "code",
   "execution_count": 143,
   "metadata": {},
   "outputs": [],
   "source": [
    "Lambda = sweep_disentangle(mpo2mps(Lambda))"
   ]
  },
  {
   "cell_type": "code",
   "execution_count": 144,
   "metadata": {},
   "outputs": [
    {
     "data": {
      "text/plain": [
       "0.3228730038176443"
      ]
     },
     "execution_count": 144,
     "metadata": {},
     "output_type": "execute_result"
    }
   ],
   "source": [
    "entanglement_entropy(Lambda)"
   ]
  },
  {
   "cell_type": "code",
   "execution_count": null,
   "metadata": {},
   "outputs": [],
   "source": []
  }
 ],
 "metadata": {
  "kernelspec": {
   "display_name": "Python 3",
   "language": "python",
   "name": "python3"
  },
  "language_info": {
   "codemirror_mode": {
    "name": "ipython",
    "version": 3
   },
   "file_extension": ".py",
   "mimetype": "text/x-python",
   "name": "python",
   "nbconvert_exporter": "python",
   "pygments_lexer": "ipython3",
   "version": "3.7.4"
  }
 },
 "nbformat": 4,
 "nbformat_minor": 4
}
