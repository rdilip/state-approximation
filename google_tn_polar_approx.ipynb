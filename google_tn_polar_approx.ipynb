{
 "cells": [
  {
   "cell_type": "code",
   "execution_count": 1,
   "metadata": {},
   "outputs": [],
   "source": [
    "%load_ext autoreload\n",
    "%autoreload 2"
   ]
  },
  {
   "cell_type": "code",
   "execution_count": 2,
   "metadata": {},
   "outputs": [],
   "source": [
    "import tensornetwork as tn\n",
    "import numpy as np\n",
    "from pprint import pprint\n",
    "from tebd import tebd\n",
    "from misc import mps_2form, mps_overlap\n",
    "from state_approximation import mps2mpo, mpo2mps, multiple_diagonal_expansions,\\\n",
    "                                diagonal_expansion, contract_diagonal_expansion,\\\n",
    "                                contract_series_diagonal_expansions, mpo_on_mps,\\\n",
    "                                entanglement_entropy\n",
    "from moses_simple import moses_move as moses_move_simple\n",
    "import matplotlib.pyplot as plt"
   ]
  },
  {
   "cell_type": "code",
   "execution_count": 13,
   "metadata": {},
   "outputs": [],
   "source": [
    "def process_network(network, labels=None):\n",
    "    \"\"\" Given a tensor network -- either an MPO or an MPS -- return a list of tn.Node\n",
    "    with correct connections. \n",
    "    Parameters\n",
    "    ----------\n",
    "    network: List\n",
    "        list of np.Array with format either pSN or WESN. \n",
    "    labels : List\n",
    "        A list of str to add as labels to each node.\n",
    "    \"\"\"\n",
    "    if type(network[0]) == tn.Node:\n",
    "        return network\n",
    "    tn_network = np.array([tn.Node(i) for i in network])\n",
    "    L = len(network)\n",
    "    if labels:\n",
    "        for i in range(L):\n",
    "            tn_network[i].name = str(labels[i])\n",
    "    if tn_network[0].get_rank() == 3: #MPS\n",
    "        for i in range(L-1):\n",
    "            tn_network[i][-1] ^ tn_network[i+1][1]\n",
    "    if tn_network[0].get_rank() == 4: #MPO\n",
    "        for i in range(L-1):\n",
    "            tn_network[i][-1] ^ tn_network[i+1][2]\n",
    "    else:\n",
    "        raise ValueError(\"Unrecognized tensor network.\")\n",
    "    return tn_network\n",
    "\n",
    "def _mpo_on_mpo_straight(mpoL, mpoR):\n",
    "    \"\"\" mpo on mpo, assumes inputs are lists of tensor networks with\n",
    "    vertical contractions already performed \"\"\"\n",
    "    mpo_out = []\n",
    "    L = len(mpoL)\n",
    "    for i in range(L):\n",
    "        mpoL[i][1] ^ mpoR[i][0]\n",
    "        tensor_out = tn.contract_between(mpoL[i], mpoR[i])\n",
    "        tn.flatten_edges([tensor_out[1], tensor_out[4]])\n",
    "        tn.flatten_edges([tensor_out[1], tensor_out[3]])\n",
    "        mpo_out.append(tensor_out)\n",
    "    return mpo_out\n",
    "\n",
    "def _mpo_on_mpo_shifted(mpoL, mpoR):\n",
    "    \"\"\" mpo on mpo with the shifted protocol. Does this by contracting the\n",
    "    entire tensor then using a series of qr decompositions to return to\n",
    "    isometric form. \n",
    "    \"\"\"\n",
    "    L = len(mpoL)\n",
    "    mpoL[0][1] ^ mpoR[0][2]\n",
    "    for i in range(L-1):\n",
    "        mpoL[i+1][1] ^ mpoR[i][0]\n",
    "    mpoL[L-1][3] ^ mpoR[L-1][0]\n",
    "    \n",
    "    edge_list = []\n",
    "    for i in range(L):\n",
    "        edge_list.extend(ordered_get_all_dangling([mpoL[i], mpoR[i]]))\n",
    "        \n",
    "    output = tn.contractors.auto(tn.reachable(mpoL[0]), edge_list)\n",
    "    out = []\n",
    "    node_q, output = tn.split_node_qr(output, left_edges=output[0:3], right_edges=output[3:])\n",
    "    out.append(node_q.reorder_axes([0,2,1,3]))\n",
    "    for i in range(L-2):\n",
    "        node_q, output = tn.split_node_qr(output, left_edges=output[:3], right_edges=output[3:])\n",
    "        out.append(node_q.reorder_axes([1,2,0,3]))\n",
    "    out.append(output.reorder_axes([1,2,0,3]))\n",
    "    return out\n",
    "\n",
    "def _mpo_on_mpo_shifted_efficient(mpoL, mpoR):\n",
    "    \"\"\" mpo_on_mpo with the efficient shifted protocol. This should be your default.\n",
    "    Only needs to do qr decompositions on the first and last tensor.\n",
    "    \"\"\"\n",
    "    L = len(mpoL)\n",
    "    mpo_out = []\n",
    "    for i in range(2, L-1):\n",
    "        mpoL[i][1] ^ mpoR[i-1][0]\n",
    "        mpo_out.append(tn.contract_between(mpoL[i], mpoR[i-1]))\n",
    "    for i in range(2,L-1):\n",
    "        tn.flatten_edges([mpo_out[i-2][1], mpo_out[i-2][4]])\n",
    "        tn.flatten_edges([mpo_out[i-2][1], mpo_out[i-2][3]])\n",
    "    \n",
    "    mpoL[1][1] ^ mpoR[0][0]\n",
    "    mpoL[0][1] ^ mpoR[0][2]\n",
    "    \n",
    "    first_tensor = tn.contract_between(mpoL[0], mpoL[1])\n",
    "    first_tensor = tn.contract_between(first_tensor, mpoR[0])\n",
    "    first_tensor, second_tensor = tn.split_node_qr(first_tensor, \n",
    "                                                   left_edges=[first_tensor[0], first_tensor[1]],\n",
    "                                                   right_edges=[first_tensor[i] for i in [2,4,3,5]]\n",
    "                                                )\n",
    "    first_shape = first_tensor.shape\n",
    "    first_tensor = tn.Node(first_tensor.tensor.reshape((*first_shape, 1)))\n",
    "    first_tensor = tn.transpose(first_tensor, [0,3,1,2])\n",
    "    \n",
    "    tn.flatten_edges([second_tensor[3], second_tensor[4]])\n",
    "    second_tensor = tn.transpose(second_tensor, [1,2,0,3])\n",
    "    mpo_out = [first_tensor, second_tensor] + mpo_out\n",
    "    \n",
    "\n",
    "    \n",
    "    mpoL[L-1][3] ^ mpoR[L-1][0]\n",
    "    mpoL[L-1][1] ^ mpoR[L-2][0]\n",
    "    first_tensor = tn.contract_between(mpoL[L-1], mpoR[L-2])\n",
    "    first_tensor = tn.contract_between(first_tensor, mpoR[L-1])\n",
    "    first_tensor, second_tensor = tn.split_node_qr(first_tensor,\n",
    "                                  left_edges=[first_tensor[i] for i in range(4)],\n",
    "                                  right_edges=[first_tensor[i] for i in [4,5]])\n",
    "    second_tensor = tn.flatten_edges([second_tensor[3], second_tensor[4]])\n",
    "    second_tensor = tn.transpose(second_tensor, [1,2,0,3])\n",
    "    mpo_out.extend([first_tensor, second_tensor])\n",
    "    return(mpo_out)\n",
    "\n",
    "def mpo_on_mpo(mpoL, mpoR, mode='shifted'):\n",
    "    \"\"\" Contracts two mpos with shift for series of quantum gates. Really contracts the whole \n",
    "    tensor then splits it using a series of QRs, so may end up being quite expensive... but\n",
    "    is probably the correct way to do it.\n",
    "    Parameters\n",
    "    ----------\n",
    "    mpoL:\n",
    "        Left mpo\n",
    "    mpoR:\n",
    "        Right mpo with leg format \n",
    "    mode:\n",
    "        Contraction method. The options are straight, shifted, and shifted_efficient. The\n",
    "        first is a vanilla mpo on mpo, the second is the fancy shifting we're doing, but\n",
    "        we contract the whole network and reconstruct the mpo. The third only does QRs\n",
    "        on the first and the last few tensors.\n",
    "    \"\"\"\n",
    "    mpoL = process_network(mpoL.copy())\n",
    "    mpoR = process_network(mpoR.copy())\n",
    "    \n",
    "    if mode == 'shifted':\n",
    "        return _mpo_on_mpo_shifted(mpoL, mpoR)\n",
    "    elif mode == 'shifted_efficient':\n",
    "        return _mpo_on_mpo_shifted_efficient(mpoL, mpoR)\n",
    "    elif mode == 'straight':\n",
    "        return _mpo_on_mpo_straight(mpoL, mpoR)\n",
    "    else:\n",
    "        raise ValueError(\"Invalid mode\")\n",
    "    \n",
    "def series_contraction(As, Lambda):\n",
    "    output = As[0]\n",
    "    for A in As[1:]:\n",
    "        output = mpo_on_mpo(output, A)\n",
    "    return mpo_on_mpo(output, Lambda)\n",
    "\n",
    "\n",
    "def remove_dangling_legs(mps):\n",
    "    \"\"\" Removes the dangling legs on an mps. \"\"\"\n",
    "    d1, chiL1, chiR1 = mps[0].shape\n",
    "    d2, chiL2, chiR2 = mps[-1].shape\n",
    "    assert chiL1 == chiR2 == 1\n",
    "    mps[0] = mps[0].reshape((d1, chiR1))\n",
    "    mps[-1] = mps[-1].reshape((d2, chiL2))\n",
    "    return mps\n"
   ]
  },
  {
   "cell_type": "code",
   "execution_count": 36,
   "metadata": {},
   "outputs": [],
   "source": [
    "from state_approximation import random_mps_N_unitaries"
   ]
  },
  {
   "cell_type": "code",
   "execution_count": 47,
   "metadata": {},
   "outputs": [
    {
     "name": "stdout",
     "output_type": "stream",
     "text": [
      "applying unitary to site 0, 1\n",
      "applying unitary to site 1, 2\n",
      "applying unitary to site 2, 3\n",
      "applying unitary to site 3, 4\n",
      "applying unitary to site 4, 5\n",
      "applying unitary to site 5, 6\n",
      "applying unitary to site 6, 7\n",
      "applying unitary to site 7, 8\n",
      "applying unitary to site 8, 9\n",
      "applying unitary to site 9, 10\n",
      "applying unitary to site 10, 11\n",
      "applying unitary to site 0, 1\n",
      "applying unitary to site 1, 2\n"
     ]
    }
   ],
   "source": [
    "tebd_state, _, _ = tebd(4, 1.5, 0.1)\n",
    "tebd_state = random_mps_N_unitaries(12, 13)\n",
    "Psi = mps2mpo(tebd_state.copy())\n",
    "Lambda = Psi.copy()\n",
    "As, Lambda, Ss, fidelity, cp, Lambdas = multiple_diagonal_expansions(Psi,100)\n",
    "#numpy_contraction = contract_series_diagonal_expansions(As, Lambda)\n",
    "#print(mps_overlap(Psi, numpy_contraction))"
   ]
  },
  {
   "cell_type": "code",
   "execution_count": 48,
   "metadata": {},
   "outputs": [
    {
     "data": {
      "text/plain": [
       "[<matplotlib.lines.Line2D at 0x7f3908e03c50>]"
      ]
     },
     "execution_count": 48,
     "metadata": {},
     "output_type": "execute_result"
    },
    {
     "data": {
      "image/png": "[encoded data removed]",
      "text/plain": [
       "<Figure size 432x288 with 1 Axes>"
      ]
     },
     "metadata": {
      "needs_background": "light"
     },
     "output_type": "display_data"
    }
   ],
   "source": [
    "plt.semilogy(Ss)"
   ]
  },
  {
   "cell_type": "code",
   "execution_count": 27,
   "metadata": {},
   "outputs": [
    {
     "data": {
      "text/plain": [
       "0.9999992630272666"
      ]
     },
     "execution_count": 27,
     "metadata": {},
     "output_type": "execute_result"
    }
   ],
   "source": [
    "mps_overlap(Lambdas[-1], Lambdas[-24])"
   ]
  },
  {
   "cell_type": "code",
   "execution_count": 28,
   "metadata": {},
   "outputs": [],
   "source": [
    "overlap = [np.abs(mps_overlap(Lambda, Lambdas[-1])) for Lambda in Lambdas[:-1]]"
   ]
  },
  {
   "cell_type": "code",
   "execution_count": 29,
   "metadata": {},
   "outputs": [
    {
     "data": {
      "text/plain": [
       "<matplotlib.collections.PathCollection at 0x7f3910c39550>"
      ]
     },
     "execution_count": 29,
     "metadata": {},
     "output_type": "execute_result"
    },
    {
     "data": {
      "image/png": "[encoded data removed]",
      "text/plain": [
       "<Figure size 432x288 with 1 Axes>"
      ]
     },
     "metadata": {
      "needs_background": "light"
     },
     "output_type": "display_data"
    }
   ],
   "source": [
    "plt.scatter(range(len(overlap)), overlap)"
   ]
  },
  {
   "cell_type": "code",
   "execution_count": 15,
   "metadata": {},
   "outputs": [
    {
     "ename": "ValueError",
     "evalue": "Two edges do not share the same nodes. 'Dangling_3's nodes: '__unnamed_node__', '__unnamed_node__'. 'Dangling_3's nodes: '__unnamed_node__', '__unnamed_node__'",
     "output_type": "error",
     "traceback": [
      "\u001b[0;31m---------------------------------------------------------------------------\u001b[0m",
      "\u001b[0;31mValueError\u001b[0m                                Traceback (most recent call last)",
      "\u001b[0;32m<ipython-input-15-561eee7fd69e>\u001b[0m in \u001b[0;36m<module>\u001b[0;34m\u001b[0m\n\u001b[0;32m----> 1\u001b[0;31m \u001b[0mout\u001b[0m \u001b[0;34m=\u001b[0m \u001b[0mmpo_on_mpo\u001b[0m\u001b[0;34m(\u001b[0m\u001b[0mAs\u001b[0m\u001b[0;34m[\u001b[0m\u001b[0;36m0\u001b[0m\u001b[0;34m]\u001b[0m\u001b[0;34m,\u001b[0m \u001b[0mLambda\u001b[0m\u001b[0;34m,\u001b[0m \u001b[0mmode\u001b[0m\u001b[0;34m=\u001b[0m\u001b[0;34m'shifted_efficient'\u001b[0m\u001b[0;34m)\u001b[0m\u001b[0;34m\u001b[0m\u001b[0;34m\u001b[0m\u001b[0m\n\u001b[0m",
      "\u001b[0;32m<ipython-input-13-718ea5824c02>\u001b[0m in \u001b[0;36mmpo_on_mpo\u001b[0;34m(mpoL, mpoR, mode)\u001b[0m\n\u001b[1;32m    130\u001b[0m         \u001b[0;32mreturn\u001b[0m \u001b[0m_mpo_on_mpo_shifted\u001b[0m\u001b[0;34m(\u001b[0m\u001b[0mmpoL\u001b[0m\u001b[0;34m,\u001b[0m \u001b[0mmpoR\u001b[0m\u001b[0;34m)\u001b[0m\u001b[0;34m\u001b[0m\u001b[0;34m\u001b[0m\u001b[0m\n\u001b[1;32m    131\u001b[0m     \u001b[0;32melif\u001b[0m \u001b[0mmode\u001b[0m \u001b[0;34m==\u001b[0m \u001b[0;34m'shifted_efficient'\u001b[0m\u001b[0;34m:\u001b[0m\u001b[0;34m\u001b[0m\u001b[0;34m\u001b[0m\u001b[0m\n\u001b[0;32m--> 132\u001b[0;31m         \u001b[0;32mreturn\u001b[0m \u001b[0m_mpo_on_mpo_shifted_efficient\u001b[0m\u001b[0;34m(\u001b[0m\u001b[0mmpoL\u001b[0m\u001b[0;34m,\u001b[0m \u001b[0mmpoR\u001b[0m\u001b[0;34m)\u001b[0m\u001b[0;34m\u001b[0m\u001b[0;34m\u001b[0m\u001b[0m\n\u001b[0m\u001b[1;32m    133\u001b[0m     \u001b[0;32melif\u001b[0m \u001b[0mmode\u001b[0m \u001b[0;34m==\u001b[0m \u001b[0;34m'straight'\u001b[0m\u001b[0;34m:\u001b[0m\u001b[0;34m\u001b[0m\u001b[0;34m\u001b[0m\u001b[0m\n\u001b[1;32m    134\u001b[0m         \u001b[0;32mreturn\u001b[0m \u001b[0m_mpo_on_mpo_straight\u001b[0m\u001b[0;34m(\u001b[0m\u001b[0mmpoL\u001b[0m\u001b[0;34m,\u001b[0m \u001b[0mmpoR\u001b[0m\u001b[0;34m)\u001b[0m\u001b[0;34m\u001b[0m\u001b[0;34m\u001b[0m\u001b[0m\n",
      "\u001b[0;32m<ipython-input-13-718ea5824c02>\u001b[0m in \u001b[0;36m_mpo_on_mpo_shifted_efficient\u001b[0;34m(mpoL, mpoR)\u001b[0m\n\u001b[1;32m     74\u001b[0m         \u001b[0mmpo_out\u001b[0m\u001b[0;34m.\u001b[0m\u001b[0mappend\u001b[0m\u001b[0;34m(\u001b[0m\u001b[0mtn\u001b[0m\u001b[0;34m.\u001b[0m\u001b[0mcontract_between\u001b[0m\u001b[0;34m(\u001b[0m\u001b[0mmpoL\u001b[0m\u001b[0;34m[\u001b[0m\u001b[0mi\u001b[0m\u001b[0;34m]\u001b[0m\u001b[0;34m,\u001b[0m \u001b[0mmpoR\u001b[0m\u001b[0;34m[\u001b[0m\u001b[0mi\u001b[0m\u001b[0;34m-\u001b[0m\u001b[0;36m1\u001b[0m\u001b[0;34m]\u001b[0m\u001b[0;34m)\u001b[0m\u001b[0;34m)\u001b[0m\u001b[0;34m\u001b[0m\u001b[0;34m\u001b[0m\u001b[0m\n\u001b[1;32m     75\u001b[0m     \u001b[0;32mfor\u001b[0m \u001b[0mi\u001b[0m \u001b[0;32min\u001b[0m \u001b[0mrange\u001b[0m\u001b[0;34m(\u001b[0m\u001b[0;36m2\u001b[0m\u001b[0;34m,\u001b[0m\u001b[0mL\u001b[0m\u001b[0;34m-\u001b[0m\u001b[0;36m1\u001b[0m\u001b[0;34m)\u001b[0m\u001b[0;34m:\u001b[0m\u001b[0;34m\u001b[0m\u001b[0;34m\u001b[0m\u001b[0m\n\u001b[0;32m---> 76\u001b[0;31m         \u001b[0mtn\u001b[0m\u001b[0;34m.\u001b[0m\u001b[0mflatten_edges\u001b[0m\u001b[0;34m(\u001b[0m\u001b[0;34m[\u001b[0m\u001b[0mmpo_out\u001b[0m\u001b[0;34m[\u001b[0m\u001b[0mi\u001b[0m\u001b[0;34m-\u001b[0m\u001b[0;36m2\u001b[0m\u001b[0;34m]\u001b[0m\u001b[0;34m[\u001b[0m\u001b[0;36m1\u001b[0m\u001b[0;34m]\u001b[0m\u001b[0;34m,\u001b[0m \u001b[0mmpo_out\u001b[0m\u001b[0;34m[\u001b[0m\u001b[0mi\u001b[0m\u001b[0;34m-\u001b[0m\u001b[0;36m2\u001b[0m\u001b[0;34m]\u001b[0m\u001b[0;34m[\u001b[0m\u001b[0;36m4\u001b[0m\u001b[0;34m]\u001b[0m\u001b[0;34m]\u001b[0m\u001b[0;34m)\u001b[0m\u001b[0;34m\u001b[0m\u001b[0;34m\u001b[0m\u001b[0m\n\u001b[0m\u001b[1;32m     77\u001b[0m         \u001b[0mtn\u001b[0m\u001b[0;34m.\u001b[0m\u001b[0mflatten_edges\u001b[0m\u001b[0;34m(\u001b[0m\u001b[0;34m[\u001b[0m\u001b[0mmpo_out\u001b[0m\u001b[0;34m[\u001b[0m\u001b[0mi\u001b[0m\u001b[0;34m-\u001b[0m\u001b[0;36m2\u001b[0m\u001b[0;34m]\u001b[0m\u001b[0;34m[\u001b[0m\u001b[0;36m1\u001b[0m\u001b[0;34m]\u001b[0m\u001b[0;34m,\u001b[0m \u001b[0mmpo_out\u001b[0m\u001b[0;34m[\u001b[0m\u001b[0mi\u001b[0m\u001b[0;34m-\u001b[0m\u001b[0;36m2\u001b[0m\u001b[0;34m]\u001b[0m\u001b[0;34m[\u001b[0m\u001b[0;36m3\u001b[0m\u001b[0;34m]\u001b[0m\u001b[0;34m]\u001b[0m\u001b[0;34m)\u001b[0m\u001b[0;34m\u001b[0m\u001b[0;34m\u001b[0m\u001b[0m\n\u001b[1;32m     78\u001b[0m \u001b[0;34m\u001b[0m\u001b[0m\n",
      "\u001b[0;32m/space/ge38huj/anaconda3/lib/python3.7/site-packages/tensornetwork/network_components.py\u001b[0m in \u001b[0;36mflatten_edges\u001b[0;34m(edges, new_edge_name)\u001b[0m\n\u001b[1;32m   1347\u001b[0m           \"'{}'s nodes: '{}', '{}'. '{}'s nodes: '{}', '{}'\".format(\n\u001b[1;32m   1348\u001b[0m               \u001b[0medges\u001b[0m\u001b[0;34m[\u001b[0m\u001b[0;36m0\u001b[0m\u001b[0;34m]\u001b[0m\u001b[0;34m,\u001b[0m \u001b[0medges\u001b[0m\u001b[0;34m[\u001b[0m\u001b[0;36m0\u001b[0m\u001b[0;34m]\u001b[0m\u001b[0;34m.\u001b[0m\u001b[0mnode1\u001b[0m\u001b[0;34m,\u001b[0m \u001b[0medges\u001b[0m\u001b[0;34m[\u001b[0m\u001b[0;36m0\u001b[0m\u001b[0;34m]\u001b[0m\u001b[0;34m.\u001b[0m\u001b[0mnode2\u001b[0m\u001b[0;34m,\u001b[0m \u001b[0medge\u001b[0m\u001b[0;34m,\u001b[0m \u001b[0medge\u001b[0m\u001b[0;34m.\u001b[0m\u001b[0mnode1\u001b[0m\u001b[0;34m,\u001b[0m\u001b[0;34m\u001b[0m\u001b[0;34m\u001b[0m\u001b[0m\n\u001b[0;32m-> 1349\u001b[0;31m               edge.node2))\n\u001b[0m\u001b[1;32m   1350\u001b[0m   \u001b[0;32mif\u001b[0m \u001b[0mlen\u001b[0m\u001b[0;34m(\u001b[0m\u001b[0mexpected_nodes\u001b[0m\u001b[0;34m)\u001b[0m \u001b[0;34m==\u001b[0m \u001b[0;36m1\u001b[0m\u001b[0;34m:\u001b[0m\u001b[0;34m\u001b[0m\u001b[0;34m\u001b[0m\u001b[0m\n\u001b[1;32m   1351\u001b[0m     \u001b[0;32mreturn\u001b[0m \u001b[0m_flatten_trace_edges\u001b[0m\u001b[0;34m(\u001b[0m\u001b[0medges\u001b[0m\u001b[0;34m,\u001b[0m \u001b[0mnew_edge_name\u001b[0m\u001b[0;34m)\u001b[0m  \u001b[0;31m#disables edges\u001b[0m\u001b[0;34m\u001b[0m\u001b[0;34m\u001b[0m\u001b[0m\n",
      "\u001b[0;31mValueError\u001b[0m: Two edges do not share the same nodes. 'Dangling_3's nodes: '__unnamed_node__', '__unnamed_node__'. 'Dangling_3's nodes: '__unnamed_node__', '__unnamed_node__'"
     ]
    }
   ],
   "source": [
    "out = mpo_on_mpo(As[0], Lambda, mode='shifted_efficient')"
   ]
  },
  {
   "cell_type": "code",
   "execution_count": 641,
   "metadata": {},
   "outputs": [
    {
     "data": {
      "text/plain": [
       "1.0000000000000095"
      ]
     },
     "execution_count": 641,
     "metadata": {},
     "output_type": "execute_result"
    }
   ],
   "source": [
    "mps_overlap(Psi,[i.tensor for i in out])"
   ]
  },
  {
   "cell_type": "code",
   "execution_count": 506,
   "metadata": {},
   "outputs": [
    {
     "data": {
      "text/plain": [
       "0.08865569691985449"
      ]
     },
     "execution_count": 506,
     "metadata": {},
     "output_type": "execute_result"
    }
   ],
   "source": [
    "Ss[-1]"
   ]
  },
  {
   "cell_type": "code",
   "execution_count": 507,
   "metadata": {},
   "outputs": [
    {
     "data": {
      "text/plain": [
       "[<matplotlib.lines.Line2D at 0x7f8d54eb9610>]"
      ]
     },
     "execution_count": 507,
     "metadata": {},
     "output_type": "execute_result"
    },
    {
     "data": {
      "image/png": "[encoded data removed]",
      "text/plain": [
       "<Figure size 432x288 with 1 Axes>"
      ]
     },
     "metadata": {
      "needs_background": "light"
     },
     "output_type": "display_data"
    }
   ],
   "source": [
    "plt.semilogy(Ss)"
   ]
  },
  {
   "cell_type": "code",
   "execution_count": 486,
   "metadata": {},
   "outputs": [
    {
     "data": {
      "text/plain": [
       "0.15071614721923182"
      ]
     },
     "execution_count": 486,
     "metadata": {},
     "output_type": "execute_result"
    }
   ],
   "source": [
    "entanglement_entropy(Psi)"
   ]
  },
  {
   "cell_type": "code",
   "execution_count": null,
   "metadata": {},
   "outputs": [],
   "source": [
    "a = np.ra"
   ]
  },
  {
   "cell_type": "code",
   "execution_count": 477,
   "metadata": {},
   "outputs": [
    {
     "name": "stdout",
     "output_type": "stream",
     "text": [
      "23.8 ms ± 303 µs per loop (mean ± std. dev. of 7 runs, 10 loops each)\n"
     ]
    }
   ],
   "source": [
    "%%timeit\n"
   ]
  },
  {
   "cell_type": "code",
   "execution_count": 478,
   "metadata": {},
   "outputs": [
    {
     "name": "stdout",
     "output_type": "stream",
     "text": [
      "1.73 s ± 11 ms per loop (mean ± std. dev. of 7 runs, 1 loop each)\n"
     ]
    }
   ],
   "source": [
    "%%timeit\n",
    "out = series_contraction(As, Lambda)"
   ]
  },
  {
   "cell_type": "code",
   "execution_count": 474,
   "metadata": {},
   "outputs": [
    {
     "name": "stdout",
     "output_type": "stream",
     "text": [
      "1.0000000000000322\n"
     ]
    }
   ],
   "source": [
    "\n",
    "tn_out = [i.tensor for i in out]\n",
    "print(mps_overlap(Psi, tn_out))"
   ]
  },
  {
   "cell_type": "code",
   "execution_count": 360,
   "metadata": {},
   "outputs": [],
   "source": [
    "lambda_shape = [i.shape for i in Lambda]\n",
    "a_shape = [a.shape for a in A1]"
   ]
  },
  {
   "cell_type": "code",
   "execution_count": 448,
   "metadata": {},
   "outputs": [],
   "source": [
    "import numpy as np\n",
    "from copy import deepcopy\n",
    "\n",
    "a_shape = [(2, 1, 1, 2), (2, 2, 2, 2)]\n",
    "lambda_shape = [(2, 1, 1, 2), (2, 1, 2, 4)]\n",
    "A1 = [np.random.rand(*shape) for shape in a_shape]\n",
    "Lambda = [np.random.rand(*shape) for shape in lambda_shape]\n",
    "A2 = deepcopy(A1)\n",
    "Lambda2 = deepcopy(Lambda)\n",
    "def process_mpos(mpo):\n",
    "    tn_mpo = [tn.Node(i) for i in mpo]\n",
    "    for i in range(len(mpo)-1):\n",
    "        tn_mpo[i][-1] ^ tn_mpo[i+1][2]\n",
    "    return tn_mpo\n",
    "import sys\n",
    "def mpo_on_mpo(mpoL, mpoR):\n",
    "    L = len(mpoL)\n",
    "    mpoL[0][1] ^ mpoR[0][2]\n",
    "    for i in range(L-1):\n",
    "        mpoL[i+1][1] ^ mpoR[i][0]\n",
    "    mpoL[L-1][3] ^ mpoR[L-1][0]\n",
    "    \n",
    "    edge_list = []\n",
    "    for i in range(L):\n",
    "        edge_list.extend(ordered_get_all_dangling([mpoL[i], mpoR[i]]))\n",
    "    output = tn.contractors.auto(tn.reachable(mpoL[0]), output_edge_order=edge_list)\n",
    "\n",
    "    return output\n",
    "\n",
    "def ordered_get_all_dangling(nodes):\n",
    "    edges = []\n",
    "    for node in nodes:\n",
    "        for edge in node.edges:\n",
    "            if edge.is_dangling():\n",
    "                edges.append(edge)\n",
    "    return edges"
   ]
  },
  {
   "cell_type": "code",
   "execution_count": 183,
   "metadata": {},
   "outputs": [
    {
     "ename": "ValueError",
     "evalue": "Cannot connect edges of unequal dimension. Dimension of edge 'Dangling_1': 1, Dimension of edge 'Dangling_2': 2.",
     "output_type": "error",
     "traceback": [
      "\u001b[0;31m---------------------------------------------------------------------------\u001b[0m",
      "\u001b[0;31mValueError\u001b[0m                                Traceback (most recent call last)",
      "\u001b[0;32m<ipython-input-183-c8a23429e378>\u001b[0m in \u001b[0;36m<module>\u001b[0;34m\u001b[0m\n\u001b[1;32m      2\u001b[0m \u001b[0;31m#tn_Psi = mpo_on_mpo(A0, tn_Psi)\u001b[0m\u001b[0;34m\u001b[0m\u001b[0;34m\u001b[0m\u001b[0;34m\u001b[0m\u001b[0m\n\u001b[1;32m      3\u001b[0m \u001b[0mtn_Psi\u001b[0m \u001b[0;34m=\u001b[0m \u001b[0;34m[\u001b[0m\u001b[0mi\u001b[0m\u001b[0;34m.\u001b[0m\u001b[0mtensor\u001b[0m \u001b[0;32mfor\u001b[0m \u001b[0mi\u001b[0m \u001b[0;32min\u001b[0m \u001b[0mtn_Psi\u001b[0m\u001b[0;34m]\u001b[0m\u001b[0;34m\u001b[0m\u001b[0;34m\u001b[0m\u001b[0m\n\u001b[0;32m----> 4\u001b[0;31m \u001b[0mtn_Psi\u001b[0m \u001b[0;34m=\u001b[0m \u001b[0mmpo_on_mpo\u001b[0m\u001b[0;34m(\u001b[0m\u001b[0mA0\u001b[0m\u001b[0;34m,\u001b[0m \u001b[0mtn_Psi\u001b[0m\u001b[0;34m)\u001b[0m\u001b[0;34m\u001b[0m\u001b[0;34m\u001b[0m\u001b[0m\n\u001b[0m\u001b[1;32m      5\u001b[0m \u001b[0mtn_Psi\u001b[0m \u001b[0;34m=\u001b[0m \u001b[0;34m[\u001b[0m\u001b[0mi\u001b[0m\u001b[0;34m.\u001b[0m\u001b[0mtensor\u001b[0m \u001b[0;32mfor\u001b[0m \u001b[0mi\u001b[0m \u001b[0;32min\u001b[0m \u001b[0mtn_Psi\u001b[0m\u001b[0;34m]\u001b[0m\u001b[0;34m\u001b[0m\u001b[0;34m\u001b[0m\u001b[0m\n",
      "\u001b[0;32m<ipython-input-145-e101b6f38ecd>\u001b[0m in \u001b[0;36mmpo_on_mpo\u001b[0;34m(mpoL, mpoR)\u001b[0m\n\u001b[1;32m     43\u001b[0m     \u001b[0;32massert\u001b[0m \u001b[0mL\u001b[0m \u001b[0;34m==\u001b[0m \u001b[0mlen\u001b[0m\u001b[0;34m(\u001b[0m\u001b[0mmpoR\u001b[0m\u001b[0;34m)\u001b[0m\u001b[0;34m\u001b[0m\u001b[0;34m\u001b[0m\u001b[0m\n\u001b[1;32m     44\u001b[0m \u001b[0;34m\u001b[0m\u001b[0m\n\u001b[0;32m---> 45\u001b[0;31m     \u001b[0mmpoL\u001b[0m\u001b[0;34m[\u001b[0m\u001b[0;36m0\u001b[0m\u001b[0;34m]\u001b[0m\u001b[0;34m[\u001b[0m\u001b[0;36m1\u001b[0m\u001b[0;34m]\u001b[0m \u001b[0;34m^\u001b[0m \u001b[0mmpoR\u001b[0m\u001b[0;34m[\u001b[0m\u001b[0;36m0\u001b[0m\u001b[0;34m]\u001b[0m\u001b[0;34m[\u001b[0m\u001b[0;36m2\u001b[0m\u001b[0;34m]\u001b[0m\u001b[0;34m\u001b[0m\u001b[0;34m\u001b[0m\u001b[0m\n\u001b[0m\u001b[1;32m     46\u001b[0m     \u001b[0;32mfor\u001b[0m \u001b[0mi\u001b[0m \u001b[0;32min\u001b[0m \u001b[0mrange\u001b[0m\u001b[0;34m(\u001b[0m\u001b[0mL\u001b[0m\u001b[0;34m-\u001b[0m\u001b[0;36m1\u001b[0m\u001b[0;34m)\u001b[0m\u001b[0;34m:\u001b[0m\u001b[0;34m\u001b[0m\u001b[0;34m\u001b[0m\u001b[0m\n\u001b[1;32m     47\u001b[0m         \u001b[0mmpoL\u001b[0m\u001b[0;34m[\u001b[0m\u001b[0mi\u001b[0m\u001b[0;34m+\u001b[0m\u001b[0;36m1\u001b[0m\u001b[0;34m]\u001b[0m\u001b[0;34m[\u001b[0m\u001b[0;36m1\u001b[0m\u001b[0;34m]\u001b[0m \u001b[0;34m^\u001b[0m \u001b[0mmpoR\u001b[0m\u001b[0;34m[\u001b[0m\u001b[0mi\u001b[0m\u001b[0;34m]\u001b[0m\u001b[0;34m[\u001b[0m\u001b[0;36m0\u001b[0m\u001b[0;34m]\u001b[0m\u001b[0;34m\u001b[0m\u001b[0;34m\u001b[0m\u001b[0m\n",
      "\u001b[0;32m/space/ge38huj/anaconda3/lib/python3.7/site-packages/tensornetwork/network_components.py\u001b[0m in \u001b[0;36m__xor__\u001b[0;34m(self, other)\u001b[0m\n\u001b[1;32m   1158\u001b[0m \u001b[0;34m\u001b[0m\u001b[0m\n\u001b[1;32m   1159\u001b[0m   \u001b[0;32mdef\u001b[0m \u001b[0m__xor__\u001b[0m\u001b[0;34m(\u001b[0m\u001b[0mself\u001b[0m\u001b[0;34m,\u001b[0m \u001b[0mother\u001b[0m\u001b[0;34m:\u001b[0m \u001b[0;34m\"Edge\"\u001b[0m\u001b[0;34m)\u001b[0m \u001b[0;34m->\u001b[0m \u001b[0;34m\"Edge\"\u001b[0m\u001b[0;34m:\u001b[0m\u001b[0;34m\u001b[0m\u001b[0;34m\u001b[0m\u001b[0m\n\u001b[0;32m-> 1160\u001b[0;31m     \u001b[0;32mreturn\u001b[0m \u001b[0mconnect\u001b[0m\u001b[0;34m(\u001b[0m\u001b[0mself\u001b[0m\u001b[0;34m,\u001b[0m \u001b[0mother\u001b[0m\u001b[0;34m,\u001b[0m \u001b[0mself\u001b[0m\u001b[0;34m.\u001b[0m\u001b[0mname\u001b[0m\u001b[0;34m)\u001b[0m\u001b[0;34m\u001b[0m\u001b[0;34m\u001b[0m\u001b[0m\n\u001b[0m\u001b[1;32m   1161\u001b[0m \u001b[0;34m\u001b[0m\u001b[0m\n\u001b[1;32m   1162\u001b[0m   \u001b[0;32mdef\u001b[0m \u001b[0m__lt__\u001b[0m\u001b[0;34m(\u001b[0m\u001b[0mself\u001b[0m\u001b[0;34m,\u001b[0m \u001b[0mother\u001b[0m\u001b[0;34m)\u001b[0m \u001b[0;34m->\u001b[0m \u001b[0mbool\u001b[0m\u001b[0;34m:\u001b[0m\u001b[0;34m\u001b[0m\u001b[0;34m\u001b[0m\u001b[0m\n",
      "\u001b[0;32m/space/ge38huj/anaconda3/lib/python3.7/site-packages/tensornetwork/network_components.py\u001b[0m in \u001b[0;36mconnect\u001b[0;34m(edge1, edge2, name)\u001b[0m\n\u001b[1;32m   1841\u001b[0m                      \u001b[0;34m\"Dimension of edge '{}': {}, \"\u001b[0m\u001b[0;34m\u001b[0m\u001b[0;34m\u001b[0m\u001b[0m\n\u001b[1;32m   1842\u001b[0m                      \"Dimension of edge '{}': {}.\".format(\n\u001b[0;32m-> 1843\u001b[0;31m                          edge1, edge1.dimension, edge2, edge2.dimension))\n\u001b[0m\u001b[1;32m   1844\u001b[0m \u001b[0;34m\u001b[0m\u001b[0m\n\u001b[1;32m   1845\u001b[0m   \u001b[0;31m#edge1 and edge2 are always dangling in this case\u001b[0m\u001b[0;34m\u001b[0m\u001b[0;34m\u001b[0m\u001b[0;34m\u001b[0m\u001b[0m\n",
      "\u001b[0;31mValueError\u001b[0m: Cannot connect edges of unequal dimension. Dimension of edge 'Dangling_1': 1, Dimension of edge 'Dangling_2': 2."
     ]
    }
   ],
   "source": [
    "tn_Psi = mpo_on_mpo(A1, Lambda)\n",
    "#tn_Psi = mpo_on_mpo(A0, tn_Psi)\n",
    "tn_Psi = [i.tensor for i in tn_Psi]\n",
    "tn_Psi = mpo_on_mpo(A0, tn_Psi)\n",
    "tn_Psi = [i.tensor for i in tn_Psi]"
   ]
  },
  {
   "cell_type": "code",
   "execution_count": 90,
   "metadata": {},
   "outputs": [],
   "source": [
    "def setup_mpo_network(lenv, renv, mpo):\n",
    "    all_mpos = [[],[],[]]\n",
    "    dl =  lenv[0].shape[0]\n",
    "    L = len(mpo)\n",
    "    for i in range(L):\n",
    "        all_mpos[0].append(tn.Node(lenv[i], name=f\"lenv_{i}\"))\n",
    "        all_mpos[1].append(tn.Node(mpo[i], name=f\"mpo_{i}\"))\n",
    "        all_mpos[2].append(tn.Node(renv[i], name=f\"renv_{i}\"))\n",
    "    for i in range(L-1):\n",
    "        for j in range(3):\n",
    "            all_mpos[j][i][3] ^ all_mpos[j][i+1][2]\n",
    "            \n",
    "    for i in range(1, L):\n",
    "        all_mpos[0][i][1] ^ all_mpos[1][i-1][0]\n",
    "        all_mpos[1][i][1] ^ all_mpos[2][i-1][0]\n",
    "        \n",
    "    all_mpos[0][L-1][3] ^ all_mpos[1][L-1][0]\n",
    "    all_mpos[1][L-1][3] ^ all_mpos[2][L-1][0]\n",
    "    \n",
    "    all_mpos[0][0][1] ^ all_mpos[1][0][2]\n",
    "    all_mpos[1][0][1] ^ all_mpos[2][0][2]\n",
    "    \n",
    "    return(all_mpos)\n",
    "\n",
    "def setup_environment(all_mpos, i, mps_left, mps_right):\n",
    "    \"\"\" Removes node i, contracts \"\"\"\n",
    "    L = len(mps_left)\n",
    "    mps_L, all_mpos, mps_R = exp_val_mpo(mps_left, mps_right, all_mpos)\n",
    "    \n",
    "    #edge_order = []\n",
    "    #edge_order.extend([all_mpos[0][i][0] for i in range(L)])\n",
    "    #edge_order.extend([all_mpos[2][i][1] for i in range(L)])\n",
    "\n",
    "    #edge_order.append(all_mpos[0][0][2])\n",
    "    #edge_order.append(all_mpos[2][-1][3])\n",
    "    \n",
    "    output = tn.contractors.auto(tn.reachable(all_mpos[0][0]))\n",
    "    return(output)"
   ]
  },
  {
   "cell_type": "code",
   "execution_count": 91,
   "metadata": {},
   "outputs": [],
   "source": [
    "def contract_mps(mps):\n",
    "    t = mps[0]\n",
    "    d = mps[0].shape[0]\n",
    "    for i in range(1, len(mps)):\n",
    "        t = np.tensordot(t, mps[i], [-1, 1])\n",
    "    return t.reshape([d]*len(mps))\n",
    "\n",
    "def tensor_overlap(t1, t2):\n",
    "    assert t1.shape == t2.shape\n",
    "    return np.tensordot(t1, t2, [range(t1.ndim), range(t2.ndim)])"
   ]
  },
  {
   "cell_type": "code",
   "execution_count": 98,
   "metadata": {},
   "outputs": [
    {
     "data": {
      "text/plain": [
       "[(2, 1, 1, 2),\n",
       " (2, 2, 2, 2),\n",
       " (2, 2, 2, 2),\n",
       " (2, 2, 2, 2),\n",
       " (2, 2, 2, 2),\n",
       " (2, 2, 2, 2),\n",
       " (2, 2, 2, 2),\n",
       " (2, 2, 2, 2),\n",
       " (2, 2, 2, 2),\n",
       " (2, 2, 2, 2)]"
      ]
     },
     "execution_count": 98,
     "metadata": {},
     "output_type": "execute_result"
    }
   ],
   "source": [
    "[i.shape for i in A2]"
   ]
  },
  {
   "cell_type": "code",
   "execution_count": 97,
   "metadata": {},
   "outputs": [
    {
     "name": "stdout",
     "output_type": "stream",
     "text": [
      "0\n"
     ]
    },
    {
     "ename": "ValueError",
     "evalue": "Cannot connect edges of unequal dimension. Dimension of edge 'Dangling_0': 2, Dimension of edge 'Dangling_1': 1.",
     "output_type": "error",
     "traceback": [
      "\u001b[0;31m---------------------------------------------------------------------------\u001b[0m",
      "\u001b[0;31mValueError\u001b[0m                                Traceback (most recent call last)",
      "\u001b[0;32m<ipython-input-97-443a7a67af43>\u001b[0m in \u001b[0;36m<module>\u001b[0;34m\u001b[0m\n\u001b[1;32m      1\u001b[0m \u001b[0mall_mpos\u001b[0m \u001b[0;34m=\u001b[0m \u001b[0msetup_mpo_network\u001b[0m\u001b[0;34m(\u001b[0m\u001b[0mA0\u001b[0m\u001b[0;34m,\u001b[0m \u001b[0mA2\u001b[0m\u001b[0;34m,\u001b[0m \u001b[0mA1\u001b[0m\u001b[0;34m)\u001b[0m\u001b[0;34m\u001b[0m\u001b[0;34m\u001b[0m\u001b[0m\n\u001b[0;32m----> 2\u001b[0;31m \u001b[0mout\u001b[0m \u001b[0;34m=\u001b[0m \u001b[0msetup_environment\u001b[0m\u001b[0;34m(\u001b[0m\u001b[0mall_mpos\u001b[0m\u001b[0;34m,\u001b[0m \u001b[0;36m0\u001b[0m\u001b[0;34m,\u001b[0m \u001b[0mtebd_state\u001b[0m\u001b[0;34m.\u001b[0m\u001b[0mcopy\u001b[0m\u001b[0;34m(\u001b[0m\u001b[0;34m)\u001b[0m\u001b[0;34m,\u001b[0m \u001b[0mmpo2mps\u001b[0m\u001b[0;34m(\u001b[0m\u001b[0mLambda\u001b[0m\u001b[0;34m)\u001b[0m\u001b[0;34m)\u001b[0m\u001b[0;34m\u001b[0m\u001b[0;34m\u001b[0m\u001b[0m\n\u001b[0m",
      "\u001b[0;32m<ipython-input-90-ffd80f24c631>\u001b[0m in \u001b[0;36msetup_environment\u001b[0;34m(all_mpos, i, mps_left, mps_right)\u001b[0m\n\u001b[1;32m     51\u001b[0m     \u001b[0;34m\"\"\" Removes node i, contracts \"\"\"\u001b[0m\u001b[0;34m\u001b[0m\u001b[0;34m\u001b[0m\u001b[0m\n\u001b[1;32m     52\u001b[0m     \u001b[0mL\u001b[0m \u001b[0;34m=\u001b[0m \u001b[0mlen\u001b[0m\u001b[0;34m(\u001b[0m\u001b[0mmps_left\u001b[0m\u001b[0;34m)\u001b[0m\u001b[0;34m\u001b[0m\u001b[0;34m\u001b[0m\u001b[0m\n\u001b[0;32m---> 53\u001b[0;31m     \u001b[0mmps_L\u001b[0m\u001b[0;34m,\u001b[0m \u001b[0mall_mpos\u001b[0m\u001b[0;34m,\u001b[0m \u001b[0mmps_R\u001b[0m \u001b[0;34m=\u001b[0m \u001b[0mexp_val_mpo\u001b[0m\u001b[0;34m(\u001b[0m\u001b[0mmps_left\u001b[0m\u001b[0;34m,\u001b[0m \u001b[0mmps_right\u001b[0m\u001b[0;34m,\u001b[0m \u001b[0mall_mpos\u001b[0m\u001b[0;34m)\u001b[0m\u001b[0;34m\u001b[0m\u001b[0;34m\u001b[0m\u001b[0m\n\u001b[0m\u001b[1;32m     54\u001b[0m \u001b[0;34m\u001b[0m\u001b[0m\n\u001b[1;32m     55\u001b[0m     \u001b[0;31m#edge_order = []\u001b[0m\u001b[0;34m\u001b[0m\u001b[0;34m\u001b[0m\u001b[0;34m\u001b[0m\u001b[0m\n",
      "\u001b[0;32m<ipython-input-90-ffd80f24c631>\u001b[0m in \u001b[0;36mexp_val_mpo\u001b[0;34m(mps_left, mps_right, mpo_network)\u001b[0m\n\u001b[1;32m     44\u001b[0m         \u001b[0mprint\u001b[0m\u001b[0;34m(\u001b[0m\u001b[0mi\u001b[0m\u001b[0;34m)\u001b[0m\u001b[0;34m\u001b[0m\u001b[0;34m\u001b[0m\u001b[0m\n\u001b[1;32m     45\u001b[0m         \u001b[0mmps_L\u001b[0m\u001b[0;34m[\u001b[0m\u001b[0mi\u001b[0m\u001b[0;34m]\u001b[0m\u001b[0;34m[\u001b[0m\u001b[0;36m0\u001b[0m\u001b[0;34m]\u001b[0m \u001b[0;34m^\u001b[0m \u001b[0mmpo_network\u001b[0m\u001b[0;34m[\u001b[0m\u001b[0;36m0\u001b[0m\u001b[0;34m]\u001b[0m\u001b[0;34m[\u001b[0m\u001b[0mi\u001b[0m\u001b[0;34m]\u001b[0m\u001b[0;34m[\u001b[0m\u001b[0;36m0\u001b[0m\u001b[0;34m]\u001b[0m\u001b[0;34m\u001b[0m\u001b[0;34m\u001b[0m\u001b[0m\n\u001b[0;32m---> 46\u001b[0;31m         \u001b[0mmps_R\u001b[0m\u001b[0;34m[\u001b[0m\u001b[0mi\u001b[0m\u001b[0;34m]\u001b[0m\u001b[0;34m[\u001b[0m\u001b[0;36m0\u001b[0m\u001b[0;34m]\u001b[0m \u001b[0;34m^\u001b[0m \u001b[0mmpo_network\u001b[0m\u001b[0;34m[\u001b[0m\u001b[0;36m2\u001b[0m\u001b[0;34m]\u001b[0m\u001b[0;34m[\u001b[0m\u001b[0mi\u001b[0m\u001b[0;34m]\u001b[0m\u001b[0;34m[\u001b[0m\u001b[0;36m1\u001b[0m\u001b[0;34m]\u001b[0m\u001b[0;34m\u001b[0m\u001b[0;34m\u001b[0m\u001b[0m\n\u001b[0m\u001b[1;32m     47\u001b[0m \u001b[0;34m\u001b[0m\u001b[0m\n\u001b[1;32m     48\u001b[0m     \u001b[0;32mreturn\u001b[0m \u001b[0;34m(\u001b[0m\u001b[0mmps_L\u001b[0m\u001b[0;34m,\u001b[0m \u001b[0mmpo_network\u001b[0m\u001b[0;34m,\u001b[0m \u001b[0mmps_right\u001b[0m\u001b[0;34m)\u001b[0m\u001b[0;34m\u001b[0m\u001b[0;34m\u001b[0m\u001b[0m\n",
      "\u001b[0;32m/space/ge38huj/anaconda3/lib/python3.7/site-packages/tensornetwork/network_components.py\u001b[0m in \u001b[0;36m__xor__\u001b[0;34m(self, other)\u001b[0m\n\u001b[1;32m   1158\u001b[0m \u001b[0;34m\u001b[0m\u001b[0m\n\u001b[1;32m   1159\u001b[0m   \u001b[0;32mdef\u001b[0m \u001b[0m__xor__\u001b[0m\u001b[0;34m(\u001b[0m\u001b[0mself\u001b[0m\u001b[0;34m,\u001b[0m \u001b[0mother\u001b[0m\u001b[0;34m:\u001b[0m \u001b[0;34m\"Edge\"\u001b[0m\u001b[0;34m)\u001b[0m \u001b[0;34m->\u001b[0m \u001b[0;34m\"Edge\"\u001b[0m\u001b[0;34m:\u001b[0m\u001b[0;34m\u001b[0m\u001b[0;34m\u001b[0m\u001b[0m\n\u001b[0;32m-> 1160\u001b[0;31m     \u001b[0;32mreturn\u001b[0m \u001b[0mconnect\u001b[0m\u001b[0;34m(\u001b[0m\u001b[0mself\u001b[0m\u001b[0;34m,\u001b[0m \u001b[0mother\u001b[0m\u001b[0;34m,\u001b[0m \u001b[0mself\u001b[0m\u001b[0;34m.\u001b[0m\u001b[0mname\u001b[0m\u001b[0;34m)\u001b[0m\u001b[0;34m\u001b[0m\u001b[0;34m\u001b[0m\u001b[0m\n\u001b[0m\u001b[1;32m   1161\u001b[0m \u001b[0;34m\u001b[0m\u001b[0m\n\u001b[1;32m   1162\u001b[0m   \u001b[0;32mdef\u001b[0m \u001b[0m__lt__\u001b[0m\u001b[0;34m(\u001b[0m\u001b[0mself\u001b[0m\u001b[0;34m,\u001b[0m \u001b[0mother\u001b[0m\u001b[0;34m)\u001b[0m \u001b[0;34m->\u001b[0m \u001b[0mbool\u001b[0m\u001b[0;34m:\u001b[0m\u001b[0;34m\u001b[0m\u001b[0;34m\u001b[0m\u001b[0m\n",
      "\u001b[0;32m/space/ge38huj/anaconda3/lib/python3.7/site-packages/tensornetwork/network_components.py\u001b[0m in \u001b[0;36mconnect\u001b[0;34m(edge1, edge2, name)\u001b[0m\n\u001b[1;32m   1841\u001b[0m                      \u001b[0;34m\"Dimension of edge '{}': {}, \"\u001b[0m\u001b[0;34m\u001b[0m\u001b[0;34m\u001b[0m\u001b[0m\n\u001b[1;32m   1842\u001b[0m                      \"Dimension of edge '{}': {}.\".format(\n\u001b[0;32m-> 1843\u001b[0;31m                          edge1, edge1.dimension, edge2, edge2.dimension))\n\u001b[0m\u001b[1;32m   1844\u001b[0m \u001b[0;34m\u001b[0m\u001b[0m\n\u001b[1;32m   1845\u001b[0m   \u001b[0;31m#edge1 and edge2 are always dangling in this case\u001b[0m\u001b[0;34m\u001b[0m\u001b[0;34m\u001b[0m\u001b[0;34m\u001b[0m\u001b[0m\n",
      "\u001b[0;31mValueError\u001b[0m: Cannot connect edges of unequal dimension. Dimension of edge 'Dangling_0': 2, Dimension of edge 'Dangling_1': 1."
     ]
    }
   ],
   "source": [
    "all_mpos = setup_mpo_network(A0, A2, A1)\n",
    "out = setup_environment(all_mpos, 0, tebd_state.copy(), mpo2mps(Lambda))"
   ]
  },
  {
   "cell_type": "code",
   "execution_count": 67,
   "metadata": {},
   "outputs": [],
   "source": [
    "output = construct_env(A0, Lambda, A1)\n",
    "result = output.tensor.reshape([2]*10)"
   ]
  },
  {
   "cell_type": "code",
   "execution_count": 68,
   "metadata": {},
   "outputs": [
    {
     "data": {
      "text/plain": [
       "array(1.)"
      ]
     },
     "execution_count": 68,
     "metadata": {},
     "output_type": "execute_result"
    }
   ],
   "source": [
    "tensor = contract_mps(tebd_state)\n",
    "tensor_overlap(tensor, result)"
   ]
  },
  {
   "cell_type": "code",
   "execution_count": 73,
   "metadata": {},
   "outputs": [
    {
     "data": {
      "text/plain": [
       "1.0000000000000056"
      ]
     },
     "execution_count": 73,
     "metadata": {},
     "output_type": "execute_result"
    }
   ],
   "source": [
    "tebd_state, _, _ = tebd(10, 1.5, 0.1)\n",
    "Psi = mps2mpo(tebd_state.copy())\n",
    "A0, Lambda = diagonal_expansion(Psi)\n",
    "Lambda = mps_2form(Lambda, 'B')\n",
    "A1, Lambda = diagonal_expansion(Lambda)\n",
    "A2, Lambda = diagonal_expansion(Lambda)\n",
    "\n",
    "out = contract_series_diagonal_expansions([A0, A1, A2], Lambda)\n",
    "out = mpo2mps(out)\n",
    "mps_overlap(out, tebd_state)"
   ]
  },
  {
   "cell_type": "code",
   "execution_count": 99,
   "metadata": {},
   "outputs": [
    {
     "data": {
      "text/plain": [
       "[(2, 1, 1, 2),\n",
       " (2, 1, 2, 4),\n",
       " (2, 1, 4, 8),\n",
       " (2, 1, 8, 16),\n",
       " (2, 1, 16, 32),\n",
       " (2, 1, 32, 16),\n",
       " (2, 1, 16, 8),\n",
       " (2, 1, 8, 4),\n",
       " (2, 1, 4, 2),\n",
       " (2, 1, 2, 1)]"
      ]
     },
     "execution_count": 99,
     "metadata": {},
     "output_type": "execute_result"
    }
   ],
   "source": [
    "[i.shape for i in Lambda]"
   ]
  },
  {
   "cell_type": "code",
   "execution_count": null,
   "metadata": {},
   "outputs": [
    {
     "name": "stdout",
     "output_type": "stream",
     "text": [
      "> /home/t30/pol/ge38huj/Documents/state_approximation/state_approximation.py(319)contract_diagonal_expansion()\n",
      "-> prod = np.tensordot(A0[i], Lambda[i-1], [1,0])\n"
     ]
    },
    {
     "name": "stdin",
     "output_type": "stream",
     "text": [
      "(Pdb)  A0[i].shape\n"
     ]
    },
    {
     "name": "stdout",
     "output_type": "stream",
     "text": [
      "(2, 2, 2, 2)\n"
     ]
    }
   ],
   "source": [
    "[i.shape for i in contract_diagonal_expansion(A2, Lambda)]"
   ]
  },
  {
   "cell_type": "code",
   "execution_count": 103,
   "metadata": {},
   "outputs": [
    {
     "data": {
      "text/plain": [
       "[(2, 1, 1, 2),\n",
       " (2, 2, 2, 2),\n",
       " (2, 2, 2, 2),\n",
       " (2, 2, 2, 2),\n",
       " (2, 2, 2, 2),\n",
       " (2, 2, 2, 2),\n",
       " (2, 2, 2, 2),\n",
       " (2, 2, 2, 2),\n",
       " (2, 2, 2, 2),\n",
       " (2, 2, 2, 2)]"
      ]
     },
     "execution_count": 103,
     "metadata": {},
     "output_type": "execute_result"
    }
   ],
   "source": [
    "[i.shape for i in A2]"
   ]
  },
  {
   "cell_type": "code",
   "execution_count": 104,
   "metadata": {},
   "outputs": [
    {
     "data": {
      "text/plain": [
       "[(2, 1, 1, 2),\n",
       " (2, 1, 2, 4),\n",
       " (2, 1, 4, 8),\n",
       " (2, 1, 8, 16),\n",
       " (2, 1, 16, 32),\n",
       " (2, 1, 32, 16),\n",
       " (2, 1, 16, 8),\n",
       " (2, 1, 8, 4),\n",
       " (2, 1, 4, 2),\n",
       " (2, 1, 2, 1)]"
      ]
     },
     "execution_count": 104,
     "metadata": {},
     "output_type": "execute_result"
    }
   ],
   "source": [
    "[i.shape for i in Lambda]"
   ]
  },
  {
   "cell_type": "code",
   "execution_count": null,
   "metadata": {},
   "outputs": [],
   "source": []
  }
 ],
 "metadata": {
  "kernelspec": {
   "display_name": "Python 3",
   "language": "python",
   "name": "python3"
  },
  "language_info": {
   "codemirror_mode": {
    "name": "ipython",
    "version": 3
   },
   "file_extension": ".py",
   "mimetype": "text/x-python",
   "name": "python",
   "nbconvert_exporter": "python",
   "pygments_lexer": "ipython3",
   "version": "3.7.4"
  }
 },
 "nbformat": 4,
 "nbformat_minor": 4
}
