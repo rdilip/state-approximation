{
 "cells": [
  {
   "cell_type": "code",
   "execution_count": 1,
   "metadata": {},
   "outputs": [],
   "source": [
    "%load_ext autoreload\n",
    "%autoreload 2"
   ]
  },
  {
   "cell_type": "code",
   "execution_count": 2,
   "metadata": {},
   "outputs": [],
   "source": [
    "import sys\n",
    "sys.path.append(\"../\")"
   ]
  },
  {
   "cell_type": "code",
   "execution_count": 83,
   "metadata": {},
   "outputs": [],
   "source": [
    "import numpy as np\n",
    "import scipy\n",
    "from misc import *\n",
    "import matplotlib.pyplot as plt\n",
    "from moses_simple import moses_move\n",
    "from moses_variational import moses_move as mm_var, var_A as mm_var_A\n",
    "from random_mps import random_mps_uniform\n",
    "from state_approximation import mps2mpo"
   ]
  },
  {
   "cell_type": "code",
   "execution_count": 87,
   "metadata": {},
   "outputs": [],
   "source": [
    "\n",
    "def var_Lambda_1site(Psi, A, Lambda, Lp_list=None):\n",
    "    L = len(Psi)\n",
    "\n",
    "    if Lp_list is None:\n",
    "        Lp = np.zeros([1, 1, 1])\n",
    "        Lp[0, 0, 0] = 1.\n",
    "        Lp_list = [Lp]\n",
    "\n",
    "        for i in range(L):\n",
    "            Lp = np.tensordot(Lp, Psi[i], axes=(0, 2))\n",
    "            Lp = np.tensordot(Lp, A[i], axes=([1, 2], [2, 0]))\n",
    "            Lp = np.tensordot(Lp, Lambda[i], axes=([0, 3, 1], [2, 0, 1]))\n",
    "            Lp = Lp.transpose([0, 2, 1])\n",
    "            Lp_list.append(Lp)\n",
    "\n",
    "    for i in range(2):\n",
    "        Rp = np.zeros([1, 1, 1])\n",
    "        Rp[0, 0, 0] = 1.\n",
    "        Rp_list = [Rp]\n",
    "        Lambdap = [[] for i in range(L)]\n",
    "\n",
    "        for i in range(L - 1, -1, -1):\n",
    "            Rp = np.tensordot(Rp, Psi[i], axes=(0, 3))\n",
    "            Rp = np.tensordot(Rp, A[i], axes=([1, 2], [3, 0]))\n",
    "\n",
    "            theta = np.tensordot(Rp, Lp_list[i], axes=([2, 4], [0, 2]))\n",
    "            theta = theta.transpose(2, 1, 3, 0)\n",
    "\n",
    "            d1, d2, chi1, chi2 = theta.shape\n",
    "            #Q,R = np.linalg.qr(theta.transpose(0,1,3,2).reshape(d1*d2*chi2,chi1))\n",
    "            Q, Y, Z = np.linalg.svd(theta.transpose(0, 1, 3, 2).reshape(d1 * d2 * chi2, chi1),full_matrices=False)\n",
    "            Lambdap[i] = Q.reshape(d1, d2, chi2, -1).transpose(0, 1, 3, 2)\n",
    "            Rp = np.tensordot(Rp, Lambdap[i], axes=([0, 1, 3], [3, 1, 0]))\n",
    "            Rp = Rp.transpose(0, 2, 1)\n",
    "            Rp_list.append(Rp)\n",
    "\n",
    "        A = mps_invert(A)\n",
    "        Psi = mps_invert(Psi)\n",
    "        Lambda = mps_invert(Lambdap)\n",
    "        Lp_list = Rp_list\n",
    "    return Lambda, Lp_list\n",
    "\n",
    "def var_A(Psi, A, Lambda, Lp_list=None):\n",
    "    L = len(Psi)\n",
    "    if Lp_list is None:\n",
    "        Lp = np.zeros([1, 1, 1])\n",
    "        Lp[0, 0, 0] = 1.\n",
    "        Lp_list = [Lp]\n",
    "\n",
    "        for i in range(L):\n",
    "            Lp = np.tensordot(Lp, Psi[i], axes=(0, 2))\n",
    "            Lp = np.tensordot(Lp, A[i].conj(), axes=([1, 2], [2, 0]))\n",
    "            Lp = np.tensordot(Lp, Lambda[i].conj(), axes=([0, 3, 1], [2, 0, 1]))\n",
    "            Lp = Lp.transpose([0, 2, 1])\n",
    "            Lp_list.append(Lp)\n",
    "\n",
    "    Rp = np.zeros([1, 1, 1])\n",
    "    Rp[0, 0, 0] = 1.\n",
    "    Rp_list = [Rp]\n",
    "    Ap = [[] for i in range(L)]\n",
    "\n",
    "    for i in range(L - 1, -1, -1):\n",
    "        Rp = np.tensordot(Rp, Psi[i], axes=(0, 3))\n",
    "        Rp = np.tensordot(Rp, Lambda[i].conj(), axes=([0, 3], [3, 1]))\n",
    "        theta = np.tensordot(Rp, Lp_list[i], axes=([2, 4], [0, 1]))\n",
    "        theta = theta.transpose(1, 3, 2, 0)\n",
    "\n",
    "        chiL, chiD, chiR, chiU = theta.shape\n",
    "        #X, s, Y = np.linalg.svd(theta.reshape(chiL * chiD, chiR * chiU),full_matrices=False)\n",
    "        #Ap[i] = np.dot(X, Y).reshape(chiL, chiD, chiR, chiU).transpose(0, 2, 1, 3)\n",
    "        Ap[i] = scipy.linalg.polar(theta.reshape(chiL*chiD, chiR*chiU))[0].reshape(chiL, chiD, chiR, chiU).transpose(0,2,1,3)\n",
    "        Rp = np.tensordot(Rp, Ap[i].conj(), axes=([0, 1, 3], [3, 0, 1]))\n",
    "        Rp_list.append(Rp)\n",
    "\n",
    "    return Ap, Lp_list\n",
    "\n",
    "def split(Psi,A,Lambda, truncation_par={'bond_dimensions': {'eta_max': 4,'chi_max': 4}}, N=10):\n",
    "\n",
    "    if A == None or Lambda == None:\n",
    "        A,Lambda = init_A_Lambda(Psi, truncation_par)\n",
    "\n",
    "    Lp_list = None\n",
    "    \n",
    "    for i in range(N):\n",
    "        A, Lp_list = var_A(Psi, A, Lambda, Lp_list=Lp_list)\n",
    "        #Lambda, Lp_list = var_Lambda_1site(Psi, A, Lambda)\n",
    "        \n",
    "    return A, Lambda"
   ]
  },
  {
   "cell_type": "code",
   "execution_count": 88,
   "metadata": {},
   "outputs": [
    {
     "name": "stdout",
     "output_type": "stream",
     "text": [
      "(1+0j)\n"
     ]
    }
   ],
   "source": [
    "L = 10\n",
    "Psi_real = mps2mpo(random_mps_uniform(L, chi=32))\n",
    "Psi_imag = mps2mpo(random_mps_uniform(L, chi=32))\n",
    "Psi = [Psi_real[i] + 1.j * Psi_imag[i] for i in range(L)]\n",
    "norm = mps_overlap(Psi, Psi)\n",
    "Psi[0] /= np.sqrt(norm)\n",
    "print(mps_overlap(Psi, Psi))"
   ]
  },
  {
   "cell_type": "code",
   "execution_count": 89,
   "metadata": {},
   "outputs": [
    {
     "data": {
      "text/plain": [
       "0.8929909744790413"
      ]
     },
     "execution_count": 89,
     "metadata": {},
     "output_type": "execute_result"
    }
   ],
   "source": [
    "truncation_par = dict(bond_dimensions=dict(eta_max=16, chi_max=100), p_trunc=0.0)\n",
    "A, Lambda = moses_move(Psi, truncation_par)\n",
    "A, Lambda = split(Psi, A, Lambda, truncation_par)\n",
    "#A, Lambda, _ = mm_var(Psi, A, Lambda, truncation_par)\n",
    "np.linalg.norm(mps_overlap(Psi, mpo_on_mpo(A, Lambda)))"
   ]
  },
  {
   "cell_type": "code",
   "execution_count": null,
   "metadata": {},
   "outputs": [],
   "source": []
  }
 ],
 "metadata": {
  "kernelspec": {
   "display_name": "Python 3",
   "language": "python",
   "name": "python3"
  },
  "language_info": {
   "codemirror_mode": {
    "name": "ipython",
    "version": 3
   },
   "file_extension": ".py",
   "mimetype": "text/x-python",
   "name": "python",
   "nbconvert_exporter": "python",
   "pygments_lexer": "ipython3",
   "version": "3.7.4"
  }
 },
 "nbformat": 4,
 "nbformat_minor": 4
}
