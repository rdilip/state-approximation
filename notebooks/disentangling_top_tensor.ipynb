{
 "cells": [
  {
   "cell_type": "markdown",
   "metadata": {},
   "source": [
    "This notebook investigates the problem where adding a unitary to the top tensor results in the overall contraction being different"
   ]
  },
  {
   "cell_type": "code",
   "execution_count": 1,
   "metadata": {},
   "outputs": [],
   "source": [
    "%load_ext autoreload\n",
    "%autoreload 2"
   ]
  },
  {
   "cell_type": "code",
   "execution_count": 29,
   "metadata": {},
   "outputs": [],
   "source": [
    "import numpy as np\n",
    "from scipy.stats import unitary_group, ortho_group"
   ]
  },
  {
   "cell_type": "code",
   "execution_count": 18,
   "metadata": {},
   "outputs": [],
   "source": [
    "def contract(left0, right0, right1):\n",
    "    out = np.tensordot(left0, right0, [1,0])\n",
    "    out = np.tensordot(out, right1, [[2,5],[0,2]])\n",
    "    return out\n",
    "\n",
    "def contract_method_2(left0, right0, right1):\n",
    "    out = np.tensordot(right0, right1, [3,2])\n",
    "    out = np.tensordot(left0, out, [[1,3],[0,3]])\n",
    "    return out\n",
    "\n",
    "def contract_method_3(left0, right0, right1):\n",
    "\n",
    "    leftC = left0.transpose([0,2,1,3]).reshape([1, 1, d1, d2])\n",
    "    rightC = right.transpose([0,3,1,2,4,5]).reshape([d1, d2, 1,1,1,2])\n",
    "    contracted = np.tensordot(leftC, rightC, [[2,3],[0,1]])"
   ]
  },
  {
   "cell_type": "code",
   "execution_count": 76,
   "metadata": {},
   "outputs": [
    {
     "name": "stdout",
     "output_type": "stream",
     "text": [
      "True\n"
     ]
    }
   ],
   "source": [
    "np.random.seed(0)\n",
    "d1, d2 = 2, 3\n",
    "left0 = np.random.rand(1,d1,1,d2)\n",
    "right0 = np.random.rand(d1,1,1,6)\n",
    "right1 = np.random.rand(d2,1,6,2)\n",
    "original = contract(left0, right0, right1)\n",
    "\n",
    "right = np.tensordot(right0, right1, [3,2])\n",
    "U = unitary_group.rvs(d1*d2).reshape([d1,d2,d1,d2])\n",
    "#U = np.kron(np.eye(d1), np.eye(d2)).reshape([d1,d2,d1,d2])\n",
    "\n",
    "right = np.tensordot(right, U, [[0,3],[2,3]]).transpose([4,0,1,5,2,3])\n",
    "left0 = np.tensordot(left0, U.conj(), [[1,3],[2,3]]).transpose([0,2,1,3])\n",
    "\n",
    "total = np.tensordot(left0, right, [[1,3],[0,3]])\n",
    "\n",
    "\n",
    "print(np.allclose(total, original))\n"
   ]
  },
  {
   "cell_type": "code",
   "execution_count": null,
   "metadata": {},
   "outputs": [],
   "source": [
    "\n",
    "# Uncontracting\n",
    "# np.random.seed(0)\n",
    "# d1, d2 = 2, 3\n",
    "# left0 = np.random.rand(1,d1,1,d2)\n",
    "# right0 = np.random.rand(d1,1,1,6)\n",
    "# right1 = np.random.rand(d2,1,6,2)\n",
    "\n",
    "\n",
    "right = np.tensordot(right0, right1, [3,2])\n",
    "leftC = left0.transpose([0,2,1,3]).reshape([1, 1, d1, d2])\n",
    "rightC = right.transpose([0,3,1,2,4,5]).reshape([d1, d2, 1,1,1,2])\n",
    "contracted = np.tensordot(leftC, rightC, [[2,3],[0,1]])\n",
    "\n",
    "U = U.reshape(d1,d2,d1,d2)\n",
    "Uleft = np.tensordot(leftC, U.conj(), [[2,3],[2,3]])\n",
    "Uright = np.tensordot(U, rightC, [[2,3], [0,1]])\n",
    "contracted_w_U = np.tensordot(Uleft, Uright, [[2,3],[0,1]])\n",
    "\n",
    "print(np.allclose(contracted_w_U, contracted))\n",
    "print(np.allclose(contracted_w_U, total))\n",
    "print(np.allclose(contract(left0, right0, right1), contracted))\n",
    "print(np.allclose(total, contract(left0, right0, right1)))\n",
    "print(np.allclose(contracted, contract_method_2(left0, right0, right1)))\n",
    "print(np.allclose(contract(left0, right0, right1), contract_method_2(left0, right0, right1)))"
   ]
  },
  {
   "cell_type": "markdown",
   "metadata": {},
   "source": [
    "* First and second U contractions are not the same\n",
    "* contract gives us the correct result, as does contract_method_2"
   ]
  },
  {
   "cell_type": "code",
   "execution_count": 51,
   "metadata": {},
   "outputs": [
    {
     "data": {
      "text/plain": [
       "True"
      ]
     },
     "execution_count": 51,
     "metadata": {},
     "output_type": "execute_result"
    }
   ],
   "source": [
    "np.allclose(total, contracted)"
   ]
  },
  {
   "cell_type": "code",
   "execution_count": 53,
   "metadata": {},
   "outputs": [
    {
     "data": {
      "text/plain": [
       "False"
      ]
     },
     "execution_count": 53,
     "metadata": {},
     "output_type": "execute_result"
    }
   ],
   "source": [
    "np.allclose(contracted, contract_method_2(left0, right0, right1))"
   ]
  },
  {
   "cell_type": "code",
   "execution_count": 41,
   "metadata": {},
   "outputs": [],
   "source": [
    "# contracted versions\n",
    "np.random.seed(0)\n",
    "d1, d2 = 2, 3\n",
    "left0 = np.random.rand(1,d1,1,d2)\n",
    "right0 = np.random.rand(d1,1,1,6)\n",
    "right1 = np.random.rand(d2,1,6,2)\n",
    "right = np.tensordot(right0, right1, [3,2])\n",
    "\n",
    "\n",
    "leftC = left0.transpose([0,2,1,3]).reshape([1, 1, d1*d2])\n",
    "rightC = right.transpose([0,3,1,2,4,5]).reshape([d1*d2, 1,1,1,2])\n",
    "contracted = np.tensordot(leftC, rightC, [2,0])"
   ]
  },
  {
   "cell_type": "code",
   "execution_count": 42,
   "metadata": {},
   "outputs": [],
   "source": [
    "U = U.reshape(d1*d2, d1*d2)\n",
    "Uleft = np.tensordot(leftC, U.conj(), [2,1])\n",
    "Uright = np.tensordot(U, rightC, [1, 0])\n",
    "contracted_w_U = np.tensordot(Uleft, Uright, [2, 0])"
   ]
  },
  {
   "cell_type": "code",
   "execution_count": 43,
   "metadata": {},
   "outputs": [
    {
     "data": {
      "text/plain": [
       "True"
      ]
     },
     "execution_count": 43,
     "metadata": {},
     "output_type": "execute_result"
    }
   ],
   "source": [
    "np.allclose(contracted, contracted_w_U)"
   ]
  },
  {
   "cell_type": "code",
   "execution_count": 54,
   "metadata": {},
   "outputs": [],
   "source": [
    "# Uncontracting\n",
    "np.random.seed(0)\n",
    "d1, d2 = 2, 3\n",
    "left0 = np.random.rand(1,d1,1,d2)\n",
    "right0 = np.random.rand(d1,1,1,6)\n",
    "right1 = np.random.rand(d2,1,6,2)\n",
    "right = np.tensordot(right0, right1, [3,2])\n",
    "\n",
    "\n",
    "leftC = left0.transpose([0,2,1,3]).reshape([1, 1, d1, d2])\n",
    "rightC = right.transpose([0,3,1,2,4,5]).reshape([d1, d2, 1,1,1,2])\n",
    "contracted = np.tensordot(leftC, rightC, [[2,3],[0,1]])\n",
    "\n",
    "U = U.reshape(d1,d2,d1,d2)\n",
    "Uleft = np.tensordot(leftC, U.conj(), [[2,3],[2,3]])\n",
    "Uright = np.tensordot(U, rightC, [[2,3], [0,1]])\n",
    "contracted_w_U = np.tensordot(Uleft, Uright, [[2,3],[0,1]])"
   ]
  },
  {
   "cell_type": "code",
   "execution_count": 55,
   "metadata": {},
   "outputs": [
    {
     "data": {
      "text/plain": [
       "True"
      ]
     },
     "execution_count": 55,
     "metadata": {},
     "output_type": "execute_result"
    }
   ],
   "source": [
    "np.allclose(contracted, total)"
   ]
  },
  {
   "cell_type": "code",
   "execution_count": 56,
   "metadata": {},
   "outputs": [],
   "source": []
  },
  {
   "cell_type": "code",
   "execution_count": 57,
   "metadata": {},
   "outputs": [
    {
     "data": {
      "text/plain": [
       "True"
      ]
     },
     "execution_count": 57,
     "metadata": {},
     "output_type": "execute_result"
    }
   ],
   "source": [
    "np.allclose(contracted, contracted_w_U)"
   ]
  },
  {
   "cell_type": "code",
   "execution_count": 60,
   "metadata": {},
   "outputs": [
    {
     "data": {
      "text/plain": [
       "True"
      ]
     },
     "execution_count": 60,
     "metadata": {},
     "output_type": "execute_result"
    }
   ],
   "source": [
    "np.allclose(contracted_w_U, contract_method_2(left0, right0, right1))"
   ]
  },
  {
   "cell_type": "code",
   "execution_count": 61,
   "metadata": {},
   "outputs": [
    {
     "data": {
      "text/plain": [
       "True"
      ]
     },
     "execution_count": 61,
     "metadata": {},
     "output_type": "execute_result"
    }
   ],
   "source": [
    "np.allclose(contracted_w_U, contract(left0, right0, right1))"
   ]
  },
  {
   "cell_type": "code",
   "execution_count": null,
   "metadata": {},
   "outputs": [],
   "source": []
  }
 ],
 "metadata": {
  "kernelspec": {
   "display_name": "Python 3",
   "language": "python",
   "name": "python3"
  },
  "language_info": {
   "codemirror_mode": {
    "name": "ipython",
    "version": 3
   },
   "file_extension": ".py",
   "mimetype": "text/x-python",
   "name": "python",
   "nbconvert_exporter": "python",
   "pygments_lexer": "ipython3",
   "version": "3.7.4"
  }
 },
 "nbformat": 4,
 "nbformat_minor": 4
}
