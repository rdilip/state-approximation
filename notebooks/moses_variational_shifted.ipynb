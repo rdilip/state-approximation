{
 "cells": [
  {
   "cell_type": "code",
   "execution_count": 1,
   "metadata": {},
   "outputs": [],
   "source": [
    "%load_ext autoreload\n",
    "%autoreload 2"
   ]
  },
  {
   "cell_type": "code",
   "execution_count": 2,
   "metadata": {},
   "outputs": [],
   "source": [
    "import numpy as np\n",
    "import matplotlib.pyplot as plt"
   ]
  },
  {
   "cell_type": "code",
   "execution_count": 3,
   "metadata": {},
   "outputs": [],
   "source": [
    "from misc import mps_overlap\n",
    "from state_approximation import mps2mpo, mpo2mps, diagonal_expansion, multiple_diagonal_expansions,\\\n",
    "    contract_diagonal_expansion, contract_series_diagonal_expansions, entanglement_entropy\n",
    "from disentanglers import disentangle_S2, renyi_entropy\n",
    "from tebd import tebd\n",
    "from rfunc import pad_mps, pad"
   ]
  },
  {
   "cell_type": "code",
   "execution_count": 84,
   "metadata": {},
   "outputs": [],
   "source": [
    "import numpy as np\n",
    "import matplotlib.pyplot as plt\n",
    "\n",
    "def var_1site_Lambda(Psi, A, Lambda):\n",
    "    \"\"\" Variationally sweeps through Lambda and optimizes tensors to maximize overlap between \n",
    "    Psi and A.Lambda. Assumes the shifted protocol. \n",
    "    Parameters\n",
    "    ----------\n",
    "    Psi : list of np.Array\n",
    "    A : list of np.Array\n",
    "    Lambda : list of np.Array\n",
    "    \n",
    "    Returns\n",
    "    -------\n",
    "    Lambda, Lp_list :\n",
    "        Lp_list of a list of environments starting from the bottom. You can actually reuse the\n",
    "        lp_list, but you do need to be a bit careful about removing the last value and adding\n",
    "        one to the start\n",
    "    \"\"\"\n",
    "    # Initializing environments. The convention is always to group all the indices that will\n",
    "    # form the final environment first, then the indices that will be contracted over.\n",
    "    # The bottom most left part has shape [pL, pR, NL, NR]\n",
    "\n",
    "    Lp_list = []\n",
    "    L = len(A)\n",
    "    assert L == len(Psi) == len(Lambda)\n",
    "\n",
    "    Lp = np.tensordot(Psi[0], A[0], [[0,2],[0,2]]).transpose([0,1,3,2])\n",
    "    Lp_list.append(Lp)\n",
    "    for i in range(1, L):\n",
    "        Lp = np.tensordot(Lp, Psi[i], [1,2])\n",
    "        Lp = np.tensordot(Lp, A[i], [[3,1],[0,2]])\n",
    "        Lp = np.tensordot(Lp, Lambda[i-1], [[4,0,1],[0,1,2]])\n",
    "        Lp_list.append(Lp)\n",
    "    \n",
    "    # This is the total overlap\n",
    "    #assert np.isclose(1.0, np.tensordot(Lp, Lambda[L-1], [[0,1,2,3],[1,3,0,2]]))\n",
    "    \n",
    "    # Start sweep from the top down. Note: You can probably do some kind of inversion\n",
    "    # like Frank does, but it would honestly be a little finnicky (when sweeping down,\n",
    "    # you'd reference Lambda[i] and Psi[i+1], A[i+1], but sweeping up you'd reference\n",
    "    # Lambda[i], Psi[i-1], A[i-1]). More trouble than it's worth.\n",
    "    \n",
    "    Lambdap = [[] for i in range(L)]\n",
    "    Rp = Lp_list[L-1].copy()\n",
    "    pE, chiN, pW, chiS = Rp.shape\n",
    "    theta = Rp.reshape(pE*chiN*pW, chiS)\n",
    "    X, S, Z = np.linalg.svd(theta, full_matrices=False)\n",
    "    Lambdap[L-1] = X.reshape(pE, chiN, pW, -1).transpose([2,0,3,1])\n",
    "    \n",
    "    Rp = Lambdap[L-1].transpose([1,3,0,2])\n",
    "    Rp_list = [Rp]\n",
    "    # Now go down\n",
    "    for i in range(L-2, -1, -1):\n",
    "        Lp = Lp_list[i]\n",
    "\n",
    "        Rp = np.tensordot(Rp, Psi[i+1], [[1,0],[3,1]])\n",
    "        Rp = np.tensordot(Rp, A[i+1], [[0,2],[3,0]])\n",
    "        env = np.tensordot(Rp, Lp, [[1,3],[1,2]])\n",
    "        chiN, pW, pE, chiS = env.shape\n",
    "        X, S, Z = np.linalg.svd(env.reshape(chiN*pW*pE, chiS), full_matrices=False)\n",
    "        Lambdap[i] = X.reshape(chiN, pW, pE, -1).transpose([1,2,3,0])\n",
    "        Rp = np.tensordot(Rp, Lambdap[i], [[0,2],[3,0]]).transpose([2,0,1,3])\n",
    "        Rp_list.append(Rp)\n",
    "    Lp = Lp_list[0]\n",
    "    for i in range(0, L-1):\n",
    "        Rp = Rp_list[L-2-i]\n",
    "        Lp = np.tensordot(Lp, Psi[i+1], [1,2])\n",
    "        Lp = np.tensordot(Lp, A[i+1], [[1,3],[2,0]])\n",
    "        env = np.tensordot(Lp, Rp, [[2,3,5],[0,1,2]])\n",
    "        pE, chiS, pW, chiN = env.shape\n",
    "        X, S, Z = np.linalg.svd(env.reshape(chiS*pE*pW, chiN), full_matrices=False)\n",
    "        Lambdap[i] = X.reshape(pE, chiS, pW, -1).transpose([2,0,1,3])\n",
    "        Lp = np.tensordot(Lp, Lambdap[i], [[4,0,1],[0,1,2]])\n",
    "        Lp_list[i+1] = Lp\n",
    "    pE, chiN, pW, chiS = Lp.shape\n",
    "    Lp = Lp.transpose([2,0,3,1])\n",
    "    X, S, Z = np.linalg.svd(Lp.reshape(pE*chiS*pW, chiN), full_matrices=False)\n",
    "    Lambdap[L-1] = X.reshape(pW, pE, chiS, -1)\n",
    "    return Lambdap, Lp_list\n",
    "def var_A(Psi, A, Lambda, Lp_list=None):   \n",
    "    \"\"\" Variationally sweeps through A and optimizes tensors to maximize overlap between \n",
    "    Psi and A.Lambda. Assumes the shifted protocol. \n",
    "    Parameters\n",
    "    ----------\n",
    "    Psi : list of np.Array\n",
    "    A : list of np.Array\n",
    "    Lambda : list of np.Array\n",
    "    \n",
    "    Returns\n",
    "    -------\n",
    "    Lambda, Lp_list :\n",
    "        Lp_list of a list of environments starting from the bottom. The shifting means you can't\n",
    "        reuse this with var_A, since the environments actually need to be different. So it's\n",
    "        probably only useful for debugging.\n",
    "    \"\"\"\n",
    "    L = len(Psi)\n",
    "    if Lp_list is None:\n",
    "        # Here to catch errors\n",
    "        Lp_list = [None]\n",
    "        Lp = np.tensordot(Psi[0], A[0], [[0,2],[0,2]]).transpose([0,1,3,2])\n",
    "        Lp_list.append(Lp)\n",
    "        # Don't need to go all the way for the A column\n",
    "        for i in range(1, L-1):\n",
    "            Lp = np.tensordot(Lp, Psi[i], [1,2])\n",
    "            Lp = np.tensordot(Lp, A[i], [[1,3],[2,0]])\n",
    "            Lp = np.tensordot(Lp, Lambda[i-1], [[4,0,1],[0,1,2]])\n",
    "            Lp_list.append(Lp)\n",
    "        \n",
    "    # Don't need to sweep back up yay\n",
    "    Ap = [[] for i in range(L)]\n",
    "    Rp = Lambda[-1].transpose([1,3,0,2])\n",
    "    for i in range(L - 1, 0, -1):\n",
    "        Rp = np.tensordot(Rp, Psi[i], [[0,1],[1,3]])\n",
    "        Rp = np.tensordot(Rp, Lambda[i-1], [1,3])\n",
    "        env = np.tensordot(Rp, Lp_list[i], [[2,4,5],[1,0,3]]).transpose([1,3,2,0])\n",
    "        pW, chiS, pE, chiN = env.shape\n",
    "        \n",
    "        X, S, Y = np.linalg.svd(env.reshape(pW*chiS, pE*chiN), full_matrices=False)\n",
    "        Ap[i] = np.dot(X, Y).reshape(pW, chiS, pE, chiN).transpose(0,2,1,3)\n",
    "        \n",
    "        Rp = np.tensordot(Rp, Ap[i], [[1,3,0],[0,1,3]]).transpose([1,0,3,2])\n",
    "    env = np.tensordot(Rp, Psi[0], [[0,1],[1,3]]).transpose(2,3,0,1)\n",
    "    pW, chiS, chiN, pE = env.shape\n",
    "    X, S, Y = np.linalg.svd(env.reshape(pW*chiS, pE*chiN), full_matrices=False)\n",
    "    Ap[0] = np.dot(X, Y).reshape(pW, chiS, chiN, pE).transpose(0,3,1,2)\n",
    "\n",
    "    return Ap\n",
    "\n",
    "def moses_move(Psi, A, Lambda, N=10):\n",
    "    for i in range(N):\n",
    "        Lambda, Lp_list = var_1site_Lambda(Psi, A, Lambda)\n",
    "        A = var_A(Psi, A, Lambda)\n",
    "    return A, Lambda\n",
    "\n"
   ]
  },
  {
   "cell_type": "code",
   "execution_count": 81,
   "metadata": {},
   "outputs": [],
   "source": [
    "for i in range(50):\n",
    "    Lambda, Lp_list = var_1site_Lambda(Psi, A, Lambda)\n",
    "    A = var_A(Psi, A, Lambda)"
   ]
  },
  {
   "cell_type": "code",
   "execution_count": 82,
   "metadata": {},
   "outputs": [
    {
     "name": "stdout",
     "output_type": "stream",
     "text": [
      "0.9970829555819779\n"
     ]
    }
   ],
   "source": [
    "out = contract_diagonal_expansion(A, Lambda)\n",
    "print(mps_overlap(mpo2mps(out), tebd_state))"
   ]
  },
  {
   "cell_type": "code",
   "execution_count": null,
   "metadata": {},
   "outputs": [],
   "source": [
    "[i.shape for i in out]"
   ]
  },
  {
   "cell_type": "code",
   "execution_count": 14,
   "metadata": {},
   "outputs": [
    {
     "data": {
      "text/plain": [
       "[<matplotlib.lines.Line2D at 0x7f262b985d50>]"
      ]
     },
     "execution_count": 14,
     "metadata": {},
     "output_type": "execute_result"
    },
    {
     "data": {
      "image/png": "[encoded data removed]",
      "text/plain": [
       "<Figure size 432x288 with 1 Axes>"
      ]
     },
     "metadata": {
      "needs_background": "light"
     },
     "output_type": "display_data"
    }
   ],
   "source": [
    "plt.semilogy(info['Ss'], '-o')"
   ]
  },
  {
   "cell_type": "code",
   "execution_count": 16,
   "metadata": {},
   "outputs": [
    {
     "data": {
      "text/plain": [
       "0.9922940916006424"
      ]
     },
     "execution_count": 16,
     "metadata": {},
     "output_type": "execute_result"
    }
   ],
   "source": [
    "mps_overlap(out, Psi)"
   ]
  }
 ],
 "metadata": {
  "kernelspec": {
   "display_name": "Python 3",
   "language": "python",
   "name": "python3"
  },
  "language_info": {
   "codemirror_mode": {
    "name": "ipython",
    "version": 3
   },
   "file_extension": ".py",
   "mimetype": "text/x-python",
   "name": "python",
   "nbconvert_exporter": "python",
   "pygments_lexer": "ipython3",
   "version": "3.7.4"
  }
 },
 "nbformat": 4,
 "nbformat_minor": 4
}
