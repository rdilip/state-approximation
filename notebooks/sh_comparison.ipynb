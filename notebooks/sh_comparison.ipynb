{
 "cells": [
  {
   "cell_type": "code",
   "execution_count": 1020,
   "metadata": {},
   "outputs": [
    {
     "name": "stdout",
     "output_type": "stream",
     "text": [
      "The autoreload extension is already loaded. To reload it, use:\n",
      "  %reload_ext autoreload\n"
     ]
    }
   ],
   "source": [
    "%load_ext autoreload\n",
    "%autoreload 2"
   ]
  },
  {
   "cell_type": "code",
   "execution_count": 1004,
   "metadata": {},
   "outputs": [],
   "source": [
    "import numpy as np\n",
    "import matplotlib.pyplot as plt\n",
    "import sys\n",
    "sys.path.append(\"../\")\n",
    "sys.path.append(\"/space/ge38huj/state_approximation/\")"
   ]
  },
  {
   "cell_type": "code",
   "execution_count": 1005,
   "metadata": {},
   "outputs": [],
   "source": [
    "from misc import mps_overlap, mps_entanglement_spectrum, mpo_on_mpo\n",
    "from state_approximation import mps2mpo, mpo2mps, diagonal_expansion, multiple_diagonal_expansions,\\\n",
    "    entanglement_entropy\n",
    "from disentanglers import disentangle_S2, renyi_entropy\n",
    "from rfunc import pad_mps, pad\n",
    "import pickle\n",
    "from tebd import tebd\n",
    "from contraction_shifted import contract_diagonal_expansion_top, contract_diagonal_expansion_bottom,\\\n",
    "                                contract_mpo, contract_diagonal_expansion_full, contract_series_diagonal_expansion\n",
    "from moses_variational_shifted import optimize_single_site, _optimize_single_site_sweep_fast, apply_Us_to_A,\\\n",
    "                                      optimize_single_site_sweep_fast\n",
    "from random_mps import *\n",
    "from quantum_circuits import *"
   ]
  },
  {
   "cell_type": "code",
   "execution_count": 379,
   "metadata": {},
   "outputs": [],
   "source": [
    "def rotation(phi):\n",
    "    return np.array([[np.cos(phi), -np.sin(phi)],[np.sin(phi), np.cos(phi)]])"
   ]
  },
  {
   "cell_type": "code",
   "execution_count": 995,
   "metadata": {},
   "outputs": [],
   "source": [
    "Psi = [np.random.rand(2,1,1) for i in range(10)]\n",
    "norm = mps_overlap(Psi, Psi)\n",
    "Psi[0] /= np.sqrt(norm)"
   ]
  },
  {
   "cell_type": "code",
   "execution_count": 1003,
   "metadata": {},
   "outputs": [
    {
     "data": {
      "text/plain": [
       "array([32, 25, 19, 13,  7,  1])"
      ]
     },
     "execution_count": 1003,
     "metadata": {},
     "output_type": "execute_result"
    }
   ],
   "source": [
    "np.array(np.linspace(32, 1, 6), dtype=np.int)"
   ]
  },
  {
   "cell_type": "markdown",
   "metadata": {},
   "source": [
    "* S should drop by log2 at each step\n",
    "* to see how entanglement is removed\n",
    "* look at truncation error at each step\n",
    "* check if using the renyi 1/2 disentangler does a better job\n",
    "* circuit of depth 1, is var moses equivalent "
   ]
  },
  {
   "cell_type": "code",
   "execution_count": 988,
   "metadata": {},
   "outputs": [
    {
     "name": "stdout",
     "output_type": "stream",
     "text": [
      "Finished\n"
     ]
    }
   ],
   "source": [
    "state, _, _ = tebd(L=10, g=1.5, dt=0.1)\n",
    "with open(\"/space/ge38huj/state_approximation/sh_data/T0.1.pkl\", \"rb\") as f:\n",
    "    sh_state = pickle.load(f)\n",
    "    \n",
    "Psi = mps2mpo(sh_state.copy())\n",
    "#Psi = bell_pair_mps(10, 9)\n",
    "#Psi = mps2mpo(Psi)\n",
    "#As, Lambda, info = multiple_diagonal_expansions(Psi,1, mode='exact', num_sweeps=10)\n",
    "\n",
    "print(\"Finished\")"
   ]
  },
  {
   "cell_type": "code",
   "execution_count": 992,
   "metadata": {},
   "outputs": [
    {
     "data": {
      "text/plain": [
       "0.9999999998184644"
      ]
     },
     "execution_count": 992,
     "metadata": {},
     "output_type": "execute_result"
    }
   ],
   "source": [
    "A, Lambda = diagonal_expansion(Psi, eta=1, num_sweeps=100)\n",
    "#out = contract_series_diagonal_expansion(As, Lambda, mode='top')\n",
    "out = contract_diagonal_expansion_top(A, Lambda)\n",
    "np.linalg.norm(mps_overlap(Psi, out))"
   ]
  },
  {
   "cell_type": "code",
   "execution_count": 793,
   "metadata": {},
   "outputs": [
    {
     "data": {
      "text/plain": [
       "0.5224537526860992"
      ]
     },
     "execution_count": 793,
     "metadata": {},
     "output_type": "execute_result"
    }
   ],
   "source": [
    "entanglement_entropy(Lambda)"
   ]
  },
  {
   "cell_type": "code",
   "execution_count": 736,
   "metadata": {},
   "outputs": [
    {
     "data": {
      "text/plain": [
       "0.9652182212015843"
      ]
     },
     "execution_count": 736,
     "metadata": {},
     "output_type": "execute_result"
    }
   ],
   "source": [
    "out = contract_series_diagonal_expansion(As, Lambda, mode='top')\n",
    "np.linalg.norm(mps_overlap(out, Psi))"
   ]
  },
  {
   "cell_type": "code",
   "execution_count": 1006,
   "metadata": {},
   "outputs": [],
   "source": [
    "with open(\"/space/ge38huj/state_approximation/sh_data_chi32/T2.5.pkl\", \"rb\") as f:\n",
    "    Psi = pickle.load(f)"
   ]
  },
  {
   "cell_type": "code",
   "execution_count": 1007,
   "metadata": {},
   "outputs": [],
   "source": [
    "with open(\"/space/ge38huj/state_approximation/mm_initial_guesses_chi32/3_layers_T2.5.pkl\", \"rb\") as f:\n",
    "    Ulist = pickle.load(f)"
   ]
  },
  {
   "cell_type": "code",
   "execution_count": 1017,
   "metadata": {},
   "outputs": [
    {
     "name": "stdout",
     "output_type": "stream",
     "text": [
      "Completed initial contraction, starting optimizations\n",
      "0\n",
      "0.0002745510557382974\n",
      "1\n",
      "0.08731913326666044\n",
      "2\n",
      "0.3493149139535827\n",
      "3\n",
      "0.4720336436736801\n",
      "4\n",
      "0.4907949167349893\n",
      "5\n",
      "0.47975465459223693\n",
      "6\n",
      "0.4666576268834989\n",
      "7\n",
      "0.45989696250774437\n",
      "8\n",
      "0.45734284558409377\n",
      "9\n",
      "0.4564958036513166\n",
      "10\n",
      "0.45623160000186325\n",
      "11\n",
      "0.4561544778188904\n"
     ]
    }
   ],
   "source": [
    "Ulist = get_initial_guess(Psi, 5)"
   ]
  },
  {
   "cell_type": "code",
   "execution_count": 1018,
   "metadata": {},
   "outputs": [
    {
     "name": "stdout",
     "output_type": "stream",
     "text": [
      "Starting from trivial state\n"
     ]
    }
   ],
   "source": [
    "out = generate_state_from_unitary_list(Ulist)"
   ]
  },
  {
   "cell_type": "code",
   "execution_count": 1019,
   "metadata": {},
   "outputs": [
    {
     "data": {
      "text/plain": [
       "0.792028104982906"
      ]
     },
     "execution_count": 1019,
     "metadata": {},
     "output_type": "execute_result"
    }
   ],
   "source": [
    "1-np.linalg.norm(mps_overlap(Psi, out))**2"
   ]
  },
  {
   "cell_type": "code",
   "execution_count": 1023,
   "metadata": {},
   "outputs": [],
   "source": [
    "with open(\"/space/ge38huj/state_approximation/mm_initial_guesses_long_chi32/5_layers_exponential_schedule_T4.0.pkl\", \"rb\") as f:\n",
    "    ulist = pickle.load(f)"
   ]
  }
 ],
 "metadata": {
  "kernelspec": {
   "display_name": "Python 3",
   "language": "python",
   "name": "python3"
  },
  "language_info": {
   "codemirror_mode": {
    "name": "ipython",
    "version": 3
   },
   "file_extension": ".py",
   "mimetype": "text/x-python",
   "name": "python",
   "nbconvert_exporter": "python",
   "pygments_lexer": "ipython3",
   "version": "3.7.4"
  }
 },
 "nbformat": 4,
 "nbformat_minor": 4
}
