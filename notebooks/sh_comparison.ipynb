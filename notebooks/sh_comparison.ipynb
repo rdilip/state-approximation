{
 "cells": [
  {
   "cell_type": "code",
   "execution_count": 718,
   "metadata": {},
   "outputs": [
    {
     "name": "stdout",
     "output_type": "stream",
     "text": [
      "The autoreload extension is already loaded. To reload it, use:\n",
      "  %reload_ext autoreload\n"
     ]
    }
   ],
   "source": [
    "%load_ext autoreload\n",
    "%autoreload 2"
   ]
  },
  {
   "cell_type": "code",
   "execution_count": 719,
   "metadata": {},
   "outputs": [],
   "source": [
    "import numpy as np\n",
    "import matplotlib.pyplot as plt\n",
    "import sys\n",
    "sys.path.append(\"../\")"
   ]
  },
  {
   "cell_type": "code",
   "execution_count": 916,
   "metadata": {},
   "outputs": [],
   "source": [
    "from misc import mps_overlap, mps_entanglement_spectrum, mpo_on_mpo\n",
    "from state_approximation import mps2mpo, mpo2mps, diagonal_expansion, multiple_diagonal_expansions,\\\n",
    "    entanglement_entropy\n",
    "from disentanglers import disentangle_S2, renyi_entropy\n",
    "from rfunc import pad_mps, pad\n",
    "import pickle\n",
    "from tebd import tebd\n",
    "from contraction_shifted import contract_diagonal_expansion_top, contract_diagonal_expansion_bottom,\\\n",
    "                                contract_mpo, contract_diagonal_expansion_full, contract_series_diagonal_expansion\n",
    "from moses_variational_shifted import optimize_single_site, _optimize_single_site_sweep_fast, apply_Us_to_A,\\\n",
    "                                      optimize_single_site_sweep_fast\n",
    "from random_mps import *\n",
    "from quantum_circuits import cnot, hadamard, bell_pair_mps"
   ]
  },
  {
   "cell_type": "code",
   "execution_count": 379,
   "metadata": {},
   "outputs": [],
   "source": [
    "def rotation(phi):\n",
    "    return np.array([[np.cos(phi), -np.sin(phi)],[np.sin(phi), np.cos(phi)]])"
   ]
  },
  {
   "cell_type": "markdown",
   "metadata": {},
   "source": [
    "* S should drop by log2 at each step\n",
    "* to see how entanglement is removed\n",
    "* look at truncation error at each step\n",
    "* check if using the renyi 1/2 disentangler does a better job\n",
    "* circuit of depth 1, is var moses equivalent "
   ]
  },
  {
   "cell_type": "code",
   "execution_count": 988,
   "metadata": {},
   "outputs": [
    {
     "name": "stdout",
     "output_type": "stream",
     "text": [
      "Finished\n"
     ]
    }
   ],
   "source": [
    "state, _, _ = tebd(L=10, g=1.5, dt=0.1)\n",
    "with open(\"/space/ge38huj/state_approximation/sh_data/T0.1.pkl\", \"rb\") as f:\n",
    "    sh_state = pickle.load(f)\n",
    "    \n",
    "Psi = mps2mpo(sh_state.copy())\n",
    "#Psi = bell_pair_mps(10, 9)\n",
    "#Psi = mps2mpo(Psi)\n",
    "#As, Lambda, info = multiple_diagonal_expansions(Psi,1, mode='exact', num_sweeps=10)\n",
    "\n",
    "print(\"Finished\")"
   ]
  },
  {
   "cell_type": "code",
   "execution_count": 992,
   "metadata": {},
   "outputs": [
    {
     "data": {
      "text/plain": [
       "0.9999999998184644"
      ]
     },
     "execution_count": 992,
     "metadata": {},
     "output_type": "execute_result"
    }
   ],
   "source": [
    "A, Lambda = diagonal_expansion(Psi, eta=1, num_sweeps=100)\n",
    "#out = contract_series_diagonal_expansion(As, Lambda, mode='top')\n",
    "out = contract_diagonal_expansion_top(A, Lambda)\n",
    "np.linalg.norm(mps_overlap(Psi, out))"
   ]
  },
  {
   "cell_type": "code",
   "execution_count": 793,
   "metadata": {},
   "outputs": [
    {
     "data": {
      "text/plain": [
       "0.5224537526860992"
      ]
     },
     "execution_count": 793,
     "metadata": {},
     "output_type": "execute_result"
    }
   ],
   "source": [
    "entanglement_entropy(Lambda)"
   ]
  },
  {
   "cell_type": "code",
   "execution_count": 736,
   "metadata": {},
   "outputs": [
    {
     "data": {
      "text/plain": [
       "0.9652182212015843"
      ]
     },
     "execution_count": 736,
     "metadata": {},
     "output_type": "execute_result"
    }
   ],
   "source": [
    "out = contract_series_diagonal_expansion(As, Lambda, mode='top')\n",
    "np.linalg.norm(mps_overlap(out, Psi))"
   ]
  },
  {
   "cell_type": "code",
   "execution_count": 716,
   "metadata": {},
   "outputs": [],
   "source": [
    "F = []\n",
    "for i in range(5):\n",
    "    As, Us, Lambda, Lp_list = _optimize_single_site_sweep_fast(Psi, As, Lp_list = None)\n",
    "    out = contract_series_diagonal_expansion(As, Lambda, mode='top')\n",
    "    F.append(mps_overlap(out, Psi))"
   ]
  },
  {
   "cell_type": "code",
   "execution_count": 717,
   "metadata": {},
   "outputs": [
    {
     "data": {
      "text/plain": [
       "<matplotlib.collections.PathCollection at 0x7f60620cb450>"
      ]
     },
     "execution_count": 717,
     "metadata": {},
     "output_type": "execute_result"
    },
    {
     "data": {
      "image/png": "[encoded data removed]",
      "text/plain": [
       "<Figure size 432x288 with 1 Axes>"
      ]
     },
     "metadata": {
      "needs_background": "light"
     },
     "output_type": "display_data"
    }
   ],
   "source": [
    "plt.scatter(range(len(F)), F)"
   ]
  },
  {
   "cell_type": "code",
   "execution_count": null,
   "metadata": {},
   "outputs": [],
   "source": []
  }
 ],
 "metadata": {
  "kernelspec": {
   "display_name": "Python 3",
   "language": "python",
   "name": "python3"
  },
  "language_info": {
   "codemirror_mode": {
    "name": "ipython",
    "version": 3
   },
   "file_extension": ".py",
   "mimetype": "text/x-python",
   "name": "python",
   "nbconvert_exporter": "python",
   "pygments_lexer": "ipython3",
   "version": "3.7.4"
  }
 },
 "nbformat": 4,
 "nbformat_minor": 4
}
