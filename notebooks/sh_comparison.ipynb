{
 "cells": [
  {
   "cell_type": "code",
   "execution_count": 2,
   "metadata": {},
   "outputs": [
    {
     "name": "stdout",
     "output_type": "stream",
     "text": [
      "The autoreload extension is already loaded. To reload it, use:\n",
      "  %reload_ext autoreload\n"
     ]
    }
   ],
   "source": [
    "%load_ext autoreload\n",
    "%autoreload 2"
   ]
  },
  {
   "cell_type": "code",
   "execution_count": 3,
   "metadata": {},
   "outputs": [],
   "source": [
    "import numpy as np\n",
    "import matplotlib.pyplot as plt\n",
    "import sys\n",
    "sys.path.append(\"../\")"
   ]
  },
  {
   "cell_type": "code",
   "execution_count": 4,
   "metadata": {},
   "outputs": [],
   "source": [
    "from misc import mps_overlap\n",
    "from state_approximation import mps2mpo, mpo2mps, diagonal_expansion, multiple_diagonal_expansions,\\\n",
    "    contract_diagonal_expansion, contract_series_diagonal_expansions, entanglement_entropy\n",
    "from disentanglers import disentangle_S2, renyi_entropy\n",
    "from rfunc import pad_mps, pad\n",
    "import pickle"
   ]
  },
  {
   "cell_type": "code",
   "execution_count": 34,
   "metadata": {},
   "outputs": [],
   "source": [
    "with open(\"/space/ge38huj/state_approximation/sh_data/T0.5.pkl\", \"rb\") as f:\n",
    "    sh_state = pickle.load(f)"
   ]
  },
  {
   "cell_type": "code",
   "execution_count": 35,
   "metadata": {},
   "outputs": [
    {
     "name": "stdout",
     "output_type": "stream",
     "text": [
      "Starting expansion\n",
      "(0.999961373708669+3.608224830031759e-16j)\n"
     ]
    }
   ],
   "source": [
    "Psi = mps2mpo(sh_state.copy())\n",
    "Lambda = Psi.copy()\n",
    "print(\"Starting expansion\")\n",
    "#As, Lambda, info = multiple_diagonal_expansions(Psi,10)\n",
    "A, Lambda = diagonal_expansion(Psi)\n",
    "out = mpo2mps(contract_diagonal_expansion(A, Lambda))\n",
    "print(mps_overlap(out, sh_state))\n",
    "#out = contract_series_diagonal_expansions(As, Lambda)"
   ]
  },
  {
   "cell_type": "code",
   "execution_count": 33,
   "metadata": {},
   "outputs": [
    {
     "data": {
      "text/plain": [
       "0.9999999999999984"
      ]
     },
     "execution_count": 33,
     "metadata": {},
     "output_type": "execute_result"
    }
   ],
   "source": [
    "np.linalg.norm(mps_overlap(sh_state, sh_state))"
   ]
  },
  {
   "cell_type": "code",
   "execution_count": 11,
   "metadata": {},
   "outputs": [
    {
     "data": {
      "text/plain": [
       "[(2, 1, 1, 2),\n",
       " (2, 1, 2, 4),\n",
       " (2, 1, 4, 8),\n",
       " (2, 1, 8, 12),\n",
       " (2, 1, 12, 12),\n",
       " (2, 1, 12, 12),\n",
       " (2, 1, 12, 12),\n",
       " (2, 1, 12, 12),\n",
       " (2, 1, 12, 12),\n",
       " (2, 1, 12, 12),\n",
       " (2, 1, 12, 12),\n",
       " (2, 1, 12, 12),\n",
       " (2, 1, 12, 12),\n",
       " (2, 1, 12, 12),\n",
       " (2, 1, 12, 12),\n",
       " (2, 1, 12, 12),\n",
       " (2, 1, 12, 12),\n",
       " (2, 1, 12, 12),\n",
       " (2, 1, 12, 12),\n",
       " (2, 1, 12, 12),\n",
       " (2, 1, 12, 12),\n",
       " (2, 1, 12, 12),\n",
       " (2, 1, 12, 12),\n",
       " (2, 1, 12, 12),\n",
       " (2, 1, 12, 12),\n",
       " (2, 1, 12, 12),\n",
       " (2, 1, 12, 12),\n",
       " (2, 1, 12, 8),\n",
       " (2, 1, 8, 4),\n",
       " (2, 1, 4, 2),\n",
       " (2, 1, 2, 1)]"
      ]
     },
     "execution_count": 11,
     "metadata": {},
     "output_type": "execute_result"
    }
   ],
   "source": [
    "[i.shape for i in Psi]"
   ]
  },
  {
   "cell_type": "code",
   "execution_count": null,
   "metadata": {},
   "outputs": [],
   "source": []
  }
 ],
 "metadata": {
  "kernelspec": {
   "display_name": "Python 3",
   "language": "python",
   "name": "python3"
  },
  "language_info": {
   "codemirror_mode": {
    "name": "ipython",
    "version": 3
   },
   "file_extension": ".py",
   "mimetype": "text/x-python",
   "name": "python",
   "nbconvert_exporter": "python",
   "pygments_lexer": "ipython3",
   "version": "3.7.4"
  }
 },
 "nbformat": 4,
 "nbformat_minor": 4
}
